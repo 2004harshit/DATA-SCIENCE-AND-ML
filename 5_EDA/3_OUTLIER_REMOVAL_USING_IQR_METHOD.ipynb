{
 "cells": [
  {
   "cell_type": "markdown",
   "id": "b7575d04",
   "metadata": {},
   "source": [
    "# outlier handeling using IQR METHOD"
   ]
  },
  {
   "cell_type": "code",
   "execution_count": 36,
   "id": "b2fab0f1",
   "metadata": {
    "scrolled": true
   },
   "outputs": [],
   "source": [
    "\n",
    "import pandas as pd\n",
    "import numpy as np\n",
    "import seaborn as sns\n",
    "from matplotlib import pyplot as plt"
   ]
  },
  {
   "cell_type": "code",
   "execution_count": 37,
   "id": "2620f2d3",
   "metadata": {},
   "outputs": [
    {
     "name": "stdout",
     "output_type": "stream",
     "text": [
      "Original Data: [ 23  25  22  27  21  24  26 100  23  28  22  29]\n",
      "Outliers detected using Z-score: [np.int64(100)]\n"
     ]
    }
   ],
   "source": [
    "data = np.array([23, 25, 22, 27, 21, 24, 26, 100, 23, 28, 22, 29])\n",
    "\n",
    "# Calculate mean and standard deviation\n",
    "mean = np.mean(data)\n",
    "std_dev = np.std(data)\n",
    "\n",
    "# Set Z-score threshold\n",
    "z_threshold = 2\n",
    "\n",
    "# Calculate Z-scores\n",
    "z_scores = [(x - mean) / std_dev for x in data]\n",
    "\n",
    "# Identify outliers\n",
    "outliers = [data[i] for i, z in enumerate(z_scores) if abs(z) > z_threshold]\n",
    "\n",
    "print(\"Original Data:\", data)\n",
    "print(\"Outliers detected using Z-score:\", outliers)"
   ]
  },
  {
   "cell_type": "code",
   "execution_count": 38,
   "id": "be9cf07e",
   "metadata": {},
   "outputs": [
    {
     "name": "stdout",
     "output_type": "stream",
     "text": [
      "99\n"
     ]
    }
   ],
   "source": [
    "arr=np.array([1,2,3,4,5,6,7,8,9,99])\n",
    "std_dev=np.std(arr)\n",
    "mean= np.mean(arr)\n",
    "max_allowed=2\n",
    "#  calculating z score for each number in array\n",
    "z_scores=[]\n",
    "for i in arr:\n",
    "    z_scores.append((i-mean)/std_dev)\n",
    "# print(z_scores)\n",
    "#  finding outlier \n",
    "for i in arr:\n",
    "    if abs(z_scores[i]>max_allowed):\n",
    "        print(arr[i])\n",
    "        break\n",
    "    \n"
   ]
  },
  {
   "cell_type": "code",
   "execution_count": 39,
   "id": "f8317be1",
   "metadata": {},
   "outputs": [],
   "source": [
    "df= pd.read_csv('scholarship.csv')"
   ]
  },
  {
   "cell_type": "code",
   "execution_count": 40,
   "id": "51b73e31",
   "metadata": {},
   "outputs": [
    {
     "data": {
      "text/html": [
       "<div>\n",
       "<style scoped>\n",
       "    .dataframe tbody tr th:only-of-type {\n",
       "        vertical-align: middle;\n",
       "    }\n",
       "\n",
       "    .dataframe tbody tr th {\n",
       "        vertical-align: top;\n",
       "    }\n",
       "\n",
       "    .dataframe thead th {\n",
       "        text-align: right;\n",
       "    }\n",
       "</style>\n",
       "<table border=\"1\" class=\"dataframe\">\n",
       "  <thead>\n",
       "    <tr style=\"text-align: right;\">\n",
       "      <th></th>\n",
       "      <th>semester_percentage</th>\n",
       "      <th>scholarship_exam_marks</th>\n",
       "      <th>got_scholarship</th>\n",
       "    </tr>\n",
       "  </thead>\n",
       "  <tbody>\n",
       "    <tr>\n",
       "      <th>0</th>\n",
       "      <td>71.9</td>\n",
       "      <td>26</td>\n",
       "      <td>1</td>\n",
       "    </tr>\n",
       "    <tr>\n",
       "      <th>1</th>\n",
       "      <td>74.6</td>\n",
       "      <td>38</td>\n",
       "      <td>1</td>\n",
       "    </tr>\n",
       "    <tr>\n",
       "      <th>2</th>\n",
       "      <td>75.4</td>\n",
       "      <td>40</td>\n",
       "      <td>1</td>\n",
       "    </tr>\n",
       "    <tr>\n",
       "      <th>3</th>\n",
       "      <td>64.2</td>\n",
       "      <td>8</td>\n",
       "      <td>1</td>\n",
       "    </tr>\n",
       "    <tr>\n",
       "      <th>4</th>\n",
       "      <td>72.3</td>\n",
       "      <td>17</td>\n",
       "      <td>0</td>\n",
       "    </tr>\n",
       "  </tbody>\n",
       "</table>\n",
       "</div>"
      ],
      "text/plain": [
       "   semester_percentage  scholarship_exam_marks  got_scholarship\n",
       "0                 71.9                      26                1\n",
       "1                 74.6                      38                1\n",
       "2                 75.4                      40                1\n",
       "3                 64.2                       8                1\n",
       "4                 72.3                      17                0"
      ]
     },
     "execution_count": 40,
     "metadata": {},
     "output_type": "execute_result"
    }
   ],
   "source": [
    "df.head(5)"
   ]
  },
  {
   "cell_type": "code",
   "execution_count": 41,
   "id": "2d034d9d",
   "metadata": {},
   "outputs": [
    {
     "data": {
      "text/plain": [
       "<seaborn.axisgrid.FacetGrid at 0x7ed6e3fa7d00>"
      ]
     },
     "execution_count": 41,
     "metadata": {},
     "output_type": "execute_result"
    },
    {
     "data": {
      "image/png": "[encoded data removed]",
      "text/plain": [
       "<Figure size 500x500 with 1 Axes>"
      ]
     },
     "metadata": {},
     "output_type": "display_data"
    }
   ],
   "source": [
    "sns.displot(df[\"scholarship_exam_marks\"],kde=True)   #skewed plot"
   ]
  },
  {
   "cell_type": "code",
   "execution_count": 42,
   "id": "0d22b4be",
   "metadata": {},
   "outputs": [
    {
     "data": {
      "text/plain": [
       "np.float64(-0.014529938929311115)"
      ]
     },
     "execution_count": 42,
     "metadata": {},
     "output_type": "execute_result"
    }
   ],
   "source": [
    "df['semester_percentage'].skew()"
   ]
  },
  {
   "cell_type": "code",
   "execution_count": 43,
   "id": "d391ce87",
   "metadata": {},
   "outputs": [
    {
     "data": {
      "text/plain": [
       "np.float64(0.8356419499466834)"
      ]
     },
     "execution_count": 43,
     "metadata": {},
     "output_type": "execute_result"
    }
   ],
   "source": [
    "df[\"scholarship_exam_marks\"].skew()"
   ]
  },
  {
   "cell_type": "code",
   "execution_count": 44,
   "id": "f69d9344",
   "metadata": {},
   "outputs": [
    {
     "data": {
      "text/plain": [
       "count    1000.000000\n",
       "mean       32.225000\n",
       "std        19.130822\n",
       "min         0.000000\n",
       "25%        17.000000\n",
       "50%        28.000000\n",
       "75%        44.000000\n",
       "max       100.000000\n",
       "Name: scholarship_exam_marks, dtype: float64"
      ]
     },
     "execution_count": 44,
     "metadata": {},
     "output_type": "execute_result"
    }
   ],
   "source": [
    "df[\"scholarship_exam_marks\"].describe()"
   ]
  },
  {
   "cell_type": "code",
   "execution_count": 45,
   "id": "46f6af7c",
   "metadata": {},
   "outputs": [
    {
     "data": {
      "text/plain": [
       "<Axes: ylabel='scholarship_exam_marks'>"
      ]
     },
     "execution_count": 45,
     "metadata": {},
     "output_type": "execute_result"
    },
    {
     "data": {
      "image/png": "[encoded data removed]",
      "text/plain": [
       "<Figure size 640x480 with 1 Axes>"
      ]
     },
     "metadata": {},
     "output_type": "display_data"
    }
   ],
   "source": [
    "sns.boxplot(df[\"scholarship_exam_marks\"])"
   ]
  },
  {
   "cell_type": "code",
   "execution_count": 46,
   "id": "105ed294",
   "metadata": {},
   "outputs": [
    {
     "data": {
      "text/plain": [
       "count    1000.000000\n",
       "mean       32.225000\n",
       "std        19.130822\n",
       "min         0.000000\n",
       "25%        17.000000\n",
       "50%        28.000000\n",
       "75%        44.000000\n",
       "max       100.000000\n",
       "Name: scholarship_exam_marks, dtype: float64"
      ]
     },
     "execution_count": 46,
     "metadata": {},
     "output_type": "execute_result"
    }
   ],
   "source": [
    "df['scholarship_exam_marks'].describe()"
   ]
  },
  {
   "cell_type": "code",
   "execution_count": 47,
   "id": "2f5bd5a2",
   "metadata": {},
   "outputs": [
    {
     "name": "stdout",
     "output_type": "stream",
     "text": [
      "Q1 =  17.0   Q2 =  44.0\n"
     ]
    }
   ],
   "source": [
    "Q1= df['scholarship_exam_marks'].quantile(0.25)\n",
    "Q3=df['scholarship_exam_marks'].quantile(0.75)\n",
    "print('Q1 = ',Q1,'  Q2 = ',Q3)"
   ]
  },
  {
   "cell_type": "code",
   "execution_count": 48,
   "id": "38d12c03",
   "metadata": {},
   "outputs": [],
   "source": [
    "IQR= Q3-Q1\n",
    "least_allowed = Q1-1.5*IQR\n",
    "max_allowed = Q3+1.5*IQR"
   ]
  },
  {
   "cell_type": "code",
   "execution_count": 49,
   "id": "31e8a6e3",
   "metadata": {},
   "outputs": [
    {
     "name": "stdout",
     "output_type": "stream",
     "text": [
      "least_allowed value =  -23.5\n",
      "max_allowed value =  84.5\n"
     ]
    }
   ],
   "source": [
    "print('least_allowed value = ',least_allowed)\n",
    "print('max_allowed value = ',max_allowed)"
   ]
  },
  {
   "cell_type": "code",
   "execution_count": 50,
   "id": "02a7ebd3",
   "metadata": {},
   "outputs": [
    {
     "name": "stdout",
     "output_type": "stream",
     "text": [
      "94\n",
      "86\n",
      "86\n",
      "93\n",
      "90\n",
      "87\n",
      "87\n",
      "87\n",
      "90\n",
      "96\n",
      "87\n",
      "90\n",
      "86\n",
      "97\n",
      "100\n"
     ]
    }
   ],
   "source": [
    "# finding the outliers \n",
    "for i in df['scholarship_exam_marks']:\n",
    "    if i<least_allowed or i>max_allowed:\n",
    "        print(i)"
   ]
  },
  {
   "cell_type": "markdown",
   "id": "90798e4f",
   "metadata": {},
   "source": [
    "## <font color =7052B8> __1.  Triming :__</font>"
   ]
  },
  {
   "cell_type": "code",
   "execution_count": 51,
   "id": "d53d7a83",
   "metadata": {},
   "outputs": [
    {
     "data": {
      "text/html": [
       "<div>\n",
       "<style scoped>\n",
       "    .dataframe tbody tr th:only-of-type {\n",
       "        vertical-align: middle;\n",
       "    }\n",
       "\n",
       "    .dataframe tbody tr th {\n",
       "        vertical-align: top;\n",
       "    }\n",
       "\n",
       "    .dataframe thead th {\n",
       "        text-align: right;\n",
       "    }\n",
       "</style>\n",
       "<table border=\"1\" class=\"dataframe\">\n",
       "  <thead>\n",
       "    <tr style=\"text-align: right;\">\n",
       "      <th></th>\n",
       "      <th>semester_percentage</th>\n",
       "      <th>scholarship_exam_marks</th>\n",
       "      <th>got_scholarship</th>\n",
       "    </tr>\n",
       "  </thead>\n",
       "  <tbody>\n",
       "    <tr>\n",
       "      <th>0</th>\n",
       "      <td>71.9</td>\n",
       "      <td>26</td>\n",
       "      <td>1</td>\n",
       "    </tr>\n",
       "    <tr>\n",
       "      <th>1</th>\n",
       "      <td>74.6</td>\n",
       "      <td>38</td>\n",
       "      <td>1</td>\n",
       "    </tr>\n",
       "    <tr>\n",
       "      <th>2</th>\n",
       "      <td>75.4</td>\n",
       "      <td>40</td>\n",
       "      <td>1</td>\n",
       "    </tr>\n",
       "    <tr>\n",
       "      <th>3</th>\n",
       "      <td>64.2</td>\n",
       "      <td>8</td>\n",
       "      <td>1</td>\n",
       "    </tr>\n",
       "    <tr>\n",
       "      <th>4</th>\n",
       "      <td>72.3</td>\n",
       "      <td>17</td>\n",
       "      <td>0</td>\n",
       "    </tr>\n",
       "  </tbody>\n",
       "</table>\n",
       "</div>"
      ],
      "text/plain": [
       "   semester_percentage  scholarship_exam_marks  got_scholarship\n",
       "0                 71.9                      26                1\n",
       "1                 74.6                      38                1\n",
       "2                 75.4                      40                1\n",
       "3                 64.2                       8                1\n",
       "4                 72.3                      17                0"
      ]
     },
     "execution_count": 51,
     "metadata": {},
     "output_type": "execute_result"
    }
   ],
   "source": [
    "result=df[(df['scholarship_exam_marks']<=max_allowed) & (df['scholarship_exam_marks']>=least_allowed)]\n",
    "result.head()"
   ]
  },
  {
   "cell_type": "code",
   "execution_count": 52,
   "id": "7269726b",
   "metadata": {},
   "outputs": [
    {
     "data": {
      "text/plain": [
       "Text(0.5, 1.0, 'scholarship exam marks boxplot')"
      ]
     },
     "execution_count": 52,
     "metadata": {},
     "output_type": "execute_result"
    },
    {
     "data": {
      "image/png": "[encoded data removed]",
      "text/plain": [
       "<Figure size 1000x500 with 2 Axes>"
      ]
     },
     "metadata": {},
     "output_type": "display_data"
    }
   ],
   "source": [
    "plt.figure(figsize=(10,5))\n",
    "plt.subplot(1,2,1)\n",
    "sns.histplot(result['scholarship_exam_marks'])\n",
    "plt.title('scholarship exam marks Distribution')\n",
    "plt.subplot(1,2,2)\n",
    "sns.boxplot(result['scholarship_exam_marks'])\n",
    "plt.title('scholarship exam marks boxplot')"
   ]
  },
  {
   "cell_type": "markdown",
   "id": "f9d4a82c",
   "metadata": {},
   "source": [
    "## <font color =7052B8> __2. Capping :__</font>"
   ]
  },
  {
   "cell_type": "code",
   "execution_count": 53,
   "id": "8c789f71",
   "metadata": {},
   "outputs": [
    {
     "data": {
      "text/html": [
       "<div>\n",
       "<style scoped>\n",
       "    .dataframe tbody tr th:only-of-type {\n",
       "        vertical-align: middle;\n",
       "    }\n",
       "\n",
       "    .dataframe tbody tr th {\n",
       "        vertical-align: top;\n",
       "    }\n",
       "\n",
       "    .dataframe thead th {\n",
       "        text-align: right;\n",
       "    }\n",
       "</style>\n",
       "<table border=\"1\" class=\"dataframe\">\n",
       "  <thead>\n",
       "    <tr style=\"text-align: right;\">\n",
       "      <th></th>\n",
       "      <th>semester_percentage</th>\n",
       "      <th>scholarship_exam_marks</th>\n",
       "      <th>got_scholarship</th>\n",
       "    </tr>\n",
       "  </thead>\n",
       "  <tbody>\n",
       "    <tr>\n",
       "      <th>0</th>\n",
       "      <td>71.9</td>\n",
       "      <td>26</td>\n",
       "      <td>1</td>\n",
       "    </tr>\n",
       "    <tr>\n",
       "      <th>1</th>\n",
       "      <td>74.6</td>\n",
       "      <td>38</td>\n",
       "      <td>1</td>\n",
       "    </tr>\n",
       "  </tbody>\n",
       "</table>\n",
       "</div>"
      ],
      "text/plain": [
       "   semester_percentage  scholarship_exam_marks  got_scholarship\n",
       "0                 71.9                      26                1\n",
       "1                 74.6                      38                1"
      ]
     },
     "execution_count": 53,
     "metadata": {},
     "output_type": "execute_result"
    }
   ],
   "source": [
    "result=df.copy()\n",
    "result.head(2)"
   ]
  },
  {
   "cell_type": "code",
   "execution_count": 54,
   "id": "711c867a",
   "metadata": {},
   "outputs": [
    {
     "data": {
      "text/plain": [
       "<Axes: xlabel='scholarship_exam_marks', ylabel='Count'>"
      ]
     },
     "execution_count": 54,
     "metadata": {},
     "output_type": "execute_result"
    },
    {
     "data": {
      "image/png": "[encoded data removed]",
      "text/plain": [
       "<Figure size 500x500 with 1 Axes>"
      ]
     },
     "metadata": {},
     "output_type": "display_data"
    }
   ],
   "source": [
    "sns.displot(result['scholarship_exam_marks'])\n",
    "sns.boxplot(result['scholarship_exam_marks'])"
   ]
  },
  {
   "cell_type": "code",
   "execution_count": 55,
   "id": "521d290e",
   "metadata": {},
   "outputs": [],
   "source": [
    "df['scholarship_exam_marks']=np.where(df['scholarship_exam_marks']>max_allowed,max_allowed,\n",
    "                                  np.where(df['scholarship_exam_marks']<least_allowed,least_allowed,df['scholarship_exam_marks']))"
   ]
  },
  {
   "cell_type": "code",
   "execution_count": 56,
   "id": "ae851c20",
   "metadata": {},
   "outputs": [
    {
     "data": {
      "text/plain": [
       "<seaborn.axisgrid.FacetGrid at 0x7ed6e3fc98d0>"
      ]
     },
     "execution_count": 56,
     "metadata": {},
     "output_type": "execute_result"
    },
    {
     "data": {
      "image/png": "[encoded data removed]",
      "text/plain": [
       "<Figure size 500x500 with 1 Axes>"
      ]
     },
     "metadata": {},
     "output_type": "display_data"
    }
   ],
   "source": [
    "sns.displot(df['scholarship_exam_marks'])\n",
    "# sns.boxplot(df['scholarship_exam_marks'])"
   ]
  }
 ],
 "metadata": {
  "kernelspec": {
   "display_name": "Python 3 (ipykernel)",
   "language": "python",
   "name": "python3"
  },
  "language_info": {
   "codemirror_mode": {
    "name": "ipython",
    "version": 3
   },
   "file_extension": ".py",
   "mimetype": "text/x-python",
   "name": "python",
   "nbconvert_exporter": "python",
   "pygments_lexer": "ipython3",
   "version": "3.10.13"
  }
 },
 "nbformat": 4,
 "nbformat_minor": 5
}
