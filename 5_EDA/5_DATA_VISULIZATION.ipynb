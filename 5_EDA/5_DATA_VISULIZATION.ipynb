{
 "cells": [
  {
   "cell_type": "code",
   "execution_count": null,
   "id": "92388ddc",
   "metadata": {},
   "outputs": [],
   "source": []
  },
  {
   "cell_type": "markdown",
   "id": "f299e711",
   "metadata": {},
   "source": [
    "## __5. Data Visualization :__\n",
    "5.1 Numerical Analysis<br>\n",
    "5.2 Graphical Analysis"
   ]
  },
  {
   "cell_type": "markdown",
   "id": "c9920253",
   "metadata": {},
   "source": [
    "#### __5.1 Numerical Analysis :__\n",
    "5.1.1 Univariate Analysis <br>\n",
    "5.1.2 Bivariate Analysis<br>"
   ]
  },
  {
   "cell_type": "markdown",
   "id": "f91b5b7c",
   "metadata": {},
   "source": [
    "#### 5.1 Univariate Analysis"
   ]
  },
  {
   "cell_type": "markdown",
   "id": "fe8d1e94",
   "metadata": {},
   "source": [
    "1. Univariate analysis involves the <font color = magenta>examination of a single variable in isolation</font>.\n",
    "2. It allows us to gain insights into the<font color = magenta> distribution, central tendency, and variability of that variable. </font>.\n",
    "3. It is useful when <font color = magenta>dealing with categorical or discrete data, or when a simplified summary is needed</font>.."
   ]
  },
  {
   "cell_type": "markdown",
   "id": "644f6fce",
   "metadata": {},
   "source": [
    "1. Value Counts - This technique involves counting the occurence of each               unique\n",
    "Binning\n",
    "Correlation:\n",
    "Skewness:\n",
    "Kurtosis:\n",
    "Mean:\n",
    "|Name|Roll|\n",
    "|------|-----|"
   ]
  },
  {
   "cell_type": "markdown",
   "id": "f0190635",
   "metadata": {},
   "source": [
    "|Technique |Description|\n",
    "|------------|-------------|\n",
    "|1. Value Counts|   This technique involves counting the occurrences of each unique category or value within a variable  |\n",
    "|2. Binning| technique used to convert continuous or numerical data into categorical or discrete intervals (bins or buckets).    |\n",
    "|3.Correlation|   <ul><li>Correlation is a statistical measure that quantifies the degree of association or relationship between two variables. </li><li>It is typically used for bivariate analysis but can also be relevant in univariate analysis to explore potential relationships that might exist between different subsets or aspects of a single variable. </li><li>The correlation coefficient, often denoted as \"r,\" ranges from -1 to 1. </li><li>A positive value indicates a positive correlation (as one variable increases, the other tends to increase), while a negative value indicates a negative correlation (as one variable increases, the other tends to decrease).</li> <li>A value close to zero suggests little to no linear relationship.</li>  </ul>|\n",
    "|4. Skewness|  Skewness is a measure of the asymmetry of the probability distribution of a variable.    |\n",
    "|5. Kurtosis|  Kurtosis is a measure of the \"tailedness\" of a probability distribution, indicating how much data is in the tails compared to a normal distribution.   |\n",
    "|6. Mean|he mean, often referred to as the average, is a central measure of location in a dataset. |"
   ]
  },
  {
   "cell_type": "code",
   "execution_count": 50,
   "id": "02447ac6",
   "metadata": {},
   "outputs": [],
   "source": [
    "import pandas as pd"
   ]
  },
  {
   "cell_type": "code",
   "execution_count": 51,
   "id": "e108c28a",
   "metadata": {},
   "outputs": [
    {
     "data": {
      "text/html": [
       "<div>\n",
       "<style scoped>\n",
       "    .dataframe tbody tr th:only-of-type {\n",
       "        vertical-align: middle;\n",
       "    }\n",
       "\n",
       "    .dataframe tbody tr th {\n",
       "        vertical-align: top;\n",
       "    }\n",
       "\n",
       "    .dataframe thead th {\n",
       "        text-align: right;\n",
       "    }\n",
       "</style>\n",
       "<table border=\"1\" class=\"dataframe\">\n",
       "  <thead>\n",
       "    <tr style=\"text-align: right;\">\n",
       "      <th></th>\n",
       "      <th>id</th>\n",
       "      <th>name</th>\n",
       "      <th>host_id</th>\n",
       "      <th>host_name</th>\n",
       "      <th>neighbourhood_group</th>\n",
       "      <th>neighbourhood</th>\n",
       "      <th>latitude</th>\n",
       "      <th>longitude</th>\n",
       "      <th>room_type</th>\n",
       "      <th>price</th>\n",
       "      <th>minimum_nights</th>\n",
       "      <th>number_of_reviews</th>\n",
       "      <th>last_review</th>\n",
       "      <th>reviews_per_month</th>\n",
       "      <th>calculated_host_listings_count</th>\n",
       "      <th>availability_365</th>\n",
       "    </tr>\n",
       "  </thead>\n",
       "  <tbody>\n",
       "    <tr>\n",
       "      <th>0</th>\n",
       "      <td>2539</td>\n",
       "      <td>Clean &amp; quiet apt home by the park</td>\n",
       "      <td>2787</td>\n",
       "      <td>John</td>\n",
       "      <td>Brooklyn</td>\n",
       "      <td>Kensington</td>\n",
       "      <td>40.64749</td>\n",
       "      <td>-73.97237</td>\n",
       "      <td>Private room</td>\n",
       "      <td>149</td>\n",
       "      <td>1</td>\n",
       "      <td>9</td>\n",
       "      <td>19-10-2018</td>\n",
       "      <td>0.21</td>\n",
       "      <td>6</td>\n",
       "      <td>365</td>\n",
       "    </tr>\n",
       "    <tr>\n",
       "      <th>1</th>\n",
       "      <td>2595</td>\n",
       "      <td>Skylit Midtown Castle</td>\n",
       "      <td>2845</td>\n",
       "      <td>Jennifer</td>\n",
       "      <td>Manhattan</td>\n",
       "      <td>Midtown</td>\n",
       "      <td>40.75362</td>\n",
       "      <td>-73.98377</td>\n",
       "      <td>Entire home/apt</td>\n",
       "      <td>225</td>\n",
       "      <td>1</td>\n",
       "      <td>45</td>\n",
       "      <td>21-05-2019</td>\n",
       "      <td>0.38</td>\n",
       "      <td>2</td>\n",
       "      <td>355</td>\n",
       "    </tr>\n",
       "    <tr>\n",
       "      <th>2</th>\n",
       "      <td>3647</td>\n",
       "      <td>THE VILLAGE OF HARLEM....NEW YORK !</td>\n",
       "      <td>4632</td>\n",
       "      <td>Elisabeth</td>\n",
       "      <td>Manhattan</td>\n",
       "      <td>Harlem</td>\n",
       "      <td>40.80902</td>\n",
       "      <td>-73.94190</td>\n",
       "      <td>Private room</td>\n",
       "      <td>150</td>\n",
       "      <td>3</td>\n",
       "      <td>0</td>\n",
       "      <td>NaN</td>\n",
       "      <td>NaN</td>\n",
       "      <td>1</td>\n",
       "      <td>365</td>\n",
       "    </tr>\n",
       "    <tr>\n",
       "      <th>3</th>\n",
       "      <td>3831</td>\n",
       "      <td>Cozy Entire Floor of Brownstone</td>\n",
       "      <td>4869</td>\n",
       "      <td>LisaRoxanne</td>\n",
       "      <td>Brooklyn</td>\n",
       "      <td>Clinton Hill</td>\n",
       "      <td>40.68514</td>\n",
       "      <td>-73.95976</td>\n",
       "      <td>Entire home/apt</td>\n",
       "      <td>89</td>\n",
       "      <td>1</td>\n",
       "      <td>270</td>\n",
       "      <td>05-07-2019</td>\n",
       "      <td>4.64</td>\n",
       "      <td>1</td>\n",
       "      <td>194</td>\n",
       "    </tr>\n",
       "    <tr>\n",
       "      <th>4</th>\n",
       "      <td>5022</td>\n",
       "      <td>Entire Apt: Spacious Studio/Loft by central park</td>\n",
       "      <td>7192</td>\n",
       "      <td>Laura</td>\n",
       "      <td>Manhattan</td>\n",
       "      <td>East Harlem</td>\n",
       "      <td>40.79851</td>\n",
       "      <td>-73.94399</td>\n",
       "      <td>Entire home/apt</td>\n",
       "      <td>80</td>\n",
       "      <td>10</td>\n",
       "      <td>9</td>\n",
       "      <td>19-11-2018</td>\n",
       "      <td>0.10</td>\n",
       "      <td>1</td>\n",
       "      <td>0</td>\n",
       "    </tr>\n",
       "  </tbody>\n",
       "</table>\n",
       "</div>"
      ],
      "text/plain": [
       "     id                                              name  host_id  \\\n",
       "0  2539                Clean & quiet apt home by the park     2787   \n",
       "1  2595                             Skylit Midtown Castle     2845   \n",
       "2  3647               THE VILLAGE OF HARLEM....NEW YORK !     4632   \n",
       "3  3831                   Cozy Entire Floor of Brownstone     4869   \n",
       "4  5022  Entire Apt: Spacious Studio/Loft by central park     7192   \n",
       "\n",
       "     host_name neighbourhood_group neighbourhood  latitude  longitude  \\\n",
       "0         John            Brooklyn    Kensington  40.64749  -73.97237   \n",
       "1     Jennifer           Manhattan       Midtown  40.75362  -73.98377   \n",
       "2    Elisabeth           Manhattan        Harlem  40.80902  -73.94190   \n",
       "3  LisaRoxanne            Brooklyn  Clinton Hill  40.68514  -73.95976   \n",
       "4        Laura           Manhattan   East Harlem  40.79851  -73.94399   \n",
       "\n",
       "         room_type  price  minimum_nights  number_of_reviews last_review  \\\n",
       "0     Private room    149               1                  9  19-10-2018   \n",
       "1  Entire home/apt    225               1                 45  21-05-2019   \n",
       "2     Private room    150               3                  0         NaN   \n",
       "3  Entire home/apt     89               1                270  05-07-2019   \n",
       "4  Entire home/apt     80              10                  9  19-11-2018   \n",
       "\n",
       "   reviews_per_month  calculated_host_listings_count  availability_365  \n",
       "0               0.21                               6               365  \n",
       "1               0.38                               2               355  \n",
       "2                NaN                               1               365  \n",
       "3               4.64                               1               194  \n",
       "4               0.10                               1                 0  "
      ]
     },
     "execution_count": 51,
     "metadata": {},
     "output_type": "execute_result"
    }
   ],
   "source": [
    "df = pd.read_csv(\"AB_NYC_2019.csv\")\n",
    "df.head()"
   ]
  },
  {
   "cell_type": "code",
   "execution_count": 52,
   "id": "7ba912d2",
   "metadata": {},
   "outputs": [
    {
     "name": "stdout",
     "output_type": "stream",
     "text": [
      "<class 'pandas.core.frame.DataFrame'>\n",
      "RangeIndex: 48906 entries, 0 to 48905\n",
      "Data columns (total 16 columns):\n",
      " #   Column                          Non-Null Count  Dtype  \n",
      "---  ------                          --------------  -----  \n",
      " 0   id                              48906 non-null  int64  \n",
      " 1   name                            48890 non-null  object \n",
      " 2   host_id                         48906 non-null  int64  \n",
      " 3   host_name                       48885 non-null  object \n",
      " 4   neighbourhood_group             48906 non-null  object \n",
      " 5   neighbourhood                   48906 non-null  object \n",
      " 6   latitude                        48906 non-null  float64\n",
      " 7   longitude                       48906 non-null  float64\n",
      " 8   room_type                       48906 non-null  object \n",
      " 9   price                           48906 non-null  int64  \n",
      " 10  minimum_nights                  48906 non-null  int64  \n",
      " 11  number_of_reviews               48906 non-null  int64  \n",
      " 12  last_review                     38854 non-null  object \n",
      " 13  reviews_per_month               38854 non-null  float64\n",
      " 14  calculated_host_listings_count  48906 non-null  int64  \n",
      " 15  availability_365                48906 non-null  int64  \n",
      "dtypes: float64(3), int64(7), object(6)\n",
      "memory usage: 6.0+ MB\n"
     ]
    }
   ],
   "source": [
    "df.info()"
   ]
  },
  {
   "cell_type": "code",
   "execution_count": 40,
   "id": "1f318ca0",
   "metadata": {},
   "outputs": [
    {
     "data": {
      "text/html": [
       "<div>\n",
       "<style scoped>\n",
       "    .dataframe tbody tr th:only-of-type {\n",
       "        vertical-align: middle;\n",
       "    }\n",
       "\n",
       "    .dataframe tbody tr th {\n",
       "        vertical-align: top;\n",
       "    }\n",
       "\n",
       "    .dataframe thead th {\n",
       "        text-align: right;\n",
       "    }\n",
       "</style>\n",
       "<table border=\"1\" class=\"dataframe\">\n",
       "  <thead>\n",
       "    <tr style=\"text-align: right;\">\n",
       "      <th></th>\n",
       "      <th>price</th>\n",
       "      <th>minimum_nights</th>\n",
       "      <th>number_of_reviews</th>\n",
       "      <th>reviews_per_month</th>\n",
       "      <th>calculated_host_listings_count</th>\n",
       "      <th>availability_365</th>\n",
       "    </tr>\n",
       "  </thead>\n",
       "  <tbody>\n",
       "    <tr>\n",
       "      <th>count</th>\n",
       "      <td>48906.000000</td>\n",
       "      <td>48906.000000</td>\n",
       "      <td>48906.000000</td>\n",
       "      <td>38854.000000</td>\n",
       "      <td>48906.000000</td>\n",
       "      <td>48906.000000</td>\n",
       "    </tr>\n",
       "    <tr>\n",
       "      <th>mean</th>\n",
       "      <td>152.711324</td>\n",
       "      <td>7.031612</td>\n",
       "      <td>23.300454</td>\n",
       "      <td>1.373151</td>\n",
       "      <td>7.142702</td>\n",
       "      <td>112.782031</td>\n",
       "    </tr>\n",
       "    <tr>\n",
       "      <th>std</th>\n",
       "      <td>240.128713</td>\n",
       "      <td>20.512489</td>\n",
       "      <td>44.607175</td>\n",
       "      <td>1.680270</td>\n",
       "      <td>32.948926</td>\n",
       "      <td>131.620370</td>\n",
       "    </tr>\n",
       "    <tr>\n",
       "      <th>min</th>\n",
       "      <td>0.000000</td>\n",
       "      <td>1.000000</td>\n",
       "      <td>0.000000</td>\n",
       "      <td>0.010000</td>\n",
       "      <td>1.000000</td>\n",
       "      <td>0.000000</td>\n",
       "    </tr>\n",
       "    <tr>\n",
       "      <th>25%</th>\n",
       "      <td>69.000000</td>\n",
       "      <td>1.000000</td>\n",
       "      <td>1.000000</td>\n",
       "      <td>0.190000</td>\n",
       "      <td>1.000000</td>\n",
       "      <td>0.000000</td>\n",
       "    </tr>\n",
       "    <tr>\n",
       "      <th>50%</th>\n",
       "      <td>106.000000</td>\n",
       "      <td>3.000000</td>\n",
       "      <td>5.000000</td>\n",
       "      <td>0.720000</td>\n",
       "      <td>1.000000</td>\n",
       "      <td>45.000000</td>\n",
       "    </tr>\n",
       "    <tr>\n",
       "      <th>75%</th>\n",
       "      <td>175.000000</td>\n",
       "      <td>5.000000</td>\n",
       "      <td>24.000000</td>\n",
       "      <td>2.020000</td>\n",
       "      <td>2.000000</td>\n",
       "      <td>227.000000</td>\n",
       "    </tr>\n",
       "    <tr>\n",
       "      <th>max</th>\n",
       "      <td>10000.000000</td>\n",
       "      <td>1250.000000</td>\n",
       "      <td>629.000000</td>\n",
       "      <td>58.500000</td>\n",
       "      <td>327.000000</td>\n",
       "      <td>365.000000</td>\n",
       "    </tr>\n",
       "  </tbody>\n",
       "</table>\n",
       "</div>"
      ],
      "text/plain": [
       "              price  minimum_nights  number_of_reviews  reviews_per_month  \\\n",
       "count  48906.000000    48906.000000       48906.000000       38854.000000   \n",
       "mean     152.711324        7.031612          23.300454           1.373151   \n",
       "std      240.128713       20.512489          44.607175           1.680270   \n",
       "min        0.000000        1.000000           0.000000           0.010000   \n",
       "25%       69.000000        1.000000           1.000000           0.190000   \n",
       "50%      106.000000        3.000000           5.000000           0.720000   \n",
       "75%      175.000000        5.000000          24.000000           2.020000   \n",
       "max    10000.000000     1250.000000         629.000000          58.500000   \n",
       "\n",
       "       calculated_host_listings_count  availability_365  \n",
       "count                    48906.000000      48906.000000  \n",
       "mean                         7.142702        112.782031  \n",
       "std                         32.948926        131.620370  \n",
       "min                          1.000000          0.000000  \n",
       "25%                          1.000000          0.000000  \n",
       "50%                          1.000000         45.000000  \n",
       "75%                          2.000000        227.000000  \n",
       "max                        327.000000        365.000000  "
      ]
     },
     "execution_count": 40,
     "metadata": {},
     "output_type": "execute_result"
    }
   ],
   "source": [
    "df.describe()"
   ]
  },
  {
   "cell_type": "markdown",
   "id": "ec7eb8be",
   "metadata": {},
   "source": [
    "> Many Colums have dtype lets convert into string"
   ]
  },
  {
   "cell_type": "code",
   "execution_count": 33,
   "id": "182cd8fd",
   "metadata": {},
   "outputs": [],
   "source": [
    "df['host_id']=df['host_id'].astype(str)\n",
    "df['id']=df['id'].astype(str)\n",
    "df[\"latitude\"]=df[\"latitude\"].astype(str)\n",
    "df[\"longitude\"]=df[\"longitude\"].astype(str)"
   ]
  },
  {
   "cell_type": "code",
   "execution_count": 34,
   "id": "55141bc9",
   "metadata": {},
   "outputs": [
    {
     "data": {
      "text/html": [
       "<div>\n",
       "<style scoped>\n",
       "    .dataframe tbody tr th:only-of-type {\n",
       "        vertical-align: middle;\n",
       "    }\n",
       "\n",
       "    .dataframe tbody tr th {\n",
       "        vertical-align: top;\n",
       "    }\n",
       "\n",
       "    .dataframe thead th {\n",
       "        text-align: right;\n",
       "    }\n",
       "</style>\n",
       "<table border=\"1\" class=\"dataframe\">\n",
       "  <thead>\n",
       "    <tr style=\"text-align: right;\">\n",
       "      <th></th>\n",
       "      <th>price</th>\n",
       "      <th>minimum_nights</th>\n",
       "      <th>number_of_reviews</th>\n",
       "      <th>reviews_per_month</th>\n",
       "      <th>calculated_host_listings_count</th>\n",
       "      <th>availability_365</th>\n",
       "    </tr>\n",
       "  </thead>\n",
       "  <tbody>\n",
       "    <tr>\n",
       "      <th>count</th>\n",
       "      <td>48906.000000</td>\n",
       "      <td>48906.000000</td>\n",
       "      <td>48906.000000</td>\n",
       "      <td>38854.000000</td>\n",
       "      <td>48906.000000</td>\n",
       "      <td>48906.000000</td>\n",
       "    </tr>\n",
       "    <tr>\n",
       "      <th>mean</th>\n",
       "      <td>152.711324</td>\n",
       "      <td>7.031612</td>\n",
       "      <td>23.300454</td>\n",
       "      <td>1.373151</td>\n",
       "      <td>7.142702</td>\n",
       "      <td>112.782031</td>\n",
       "    </tr>\n",
       "    <tr>\n",
       "      <th>std</th>\n",
       "      <td>240.128713</td>\n",
       "      <td>20.512489</td>\n",
       "      <td>44.607175</td>\n",
       "      <td>1.680270</td>\n",
       "      <td>32.948926</td>\n",
       "      <td>131.620370</td>\n",
       "    </tr>\n",
       "    <tr>\n",
       "      <th>min</th>\n",
       "      <td>0.000000</td>\n",
       "      <td>1.000000</td>\n",
       "      <td>0.000000</td>\n",
       "      <td>0.010000</td>\n",
       "      <td>1.000000</td>\n",
       "      <td>0.000000</td>\n",
       "    </tr>\n",
       "    <tr>\n",
       "      <th>25%</th>\n",
       "      <td>69.000000</td>\n",
       "      <td>1.000000</td>\n",
       "      <td>1.000000</td>\n",
       "      <td>0.190000</td>\n",
       "      <td>1.000000</td>\n",
       "      <td>0.000000</td>\n",
       "    </tr>\n",
       "    <tr>\n",
       "      <th>50%</th>\n",
       "      <td>106.000000</td>\n",
       "      <td>3.000000</td>\n",
       "      <td>5.000000</td>\n",
       "      <td>0.720000</td>\n",
       "      <td>1.000000</td>\n",
       "      <td>45.000000</td>\n",
       "    </tr>\n",
       "    <tr>\n",
       "      <th>75%</th>\n",
       "      <td>175.000000</td>\n",
       "      <td>5.000000</td>\n",
       "      <td>24.000000</td>\n",
       "      <td>2.020000</td>\n",
       "      <td>2.000000</td>\n",
       "      <td>227.000000</td>\n",
       "    </tr>\n",
       "    <tr>\n",
       "      <th>max</th>\n",
       "      <td>10000.000000</td>\n",
       "      <td>1250.000000</td>\n",
       "      <td>629.000000</td>\n",
       "      <td>58.500000</td>\n",
       "      <td>327.000000</td>\n",
       "      <td>365.000000</td>\n",
       "    </tr>\n",
       "  </tbody>\n",
       "</table>\n",
       "</div>"
      ],
      "text/plain": [
       "              price  minimum_nights  number_of_reviews  reviews_per_month  \\\n",
       "count  48906.000000    48906.000000       48906.000000       38854.000000   \n",
       "mean     152.711324        7.031612          23.300454           1.373151   \n",
       "std      240.128713       20.512489          44.607175           1.680270   \n",
       "min        0.000000        1.000000           0.000000           0.010000   \n",
       "25%       69.000000        1.000000           1.000000           0.190000   \n",
       "50%      106.000000        3.000000           5.000000           0.720000   \n",
       "75%      175.000000        5.000000          24.000000           2.020000   \n",
       "max    10000.000000     1250.000000         629.000000          58.500000   \n",
       "\n",
       "       calculated_host_listings_count  availability_365  \n",
       "count                    48906.000000      48906.000000  \n",
       "mean                         7.142702        112.782031  \n",
       "std                         32.948926        131.620370  \n",
       "min                          1.000000          0.000000  \n",
       "25%                          1.000000          0.000000  \n",
       "50%                          1.000000         45.000000  \n",
       "75%                          2.000000        227.000000  \n",
       "max                        327.000000        365.000000  "
      ]
     },
     "execution_count": 34,
     "metadata": {},
     "output_type": "execute_result"
    }
   ],
   "source": [
    "df.describe()"
   ]
  },
  {
   "cell_type": "code",
   "execution_count": 38,
   "id": "b2328c42",
   "metadata": {},
   "outputs": [
    {
     "data": {
      "text/plain": [
       "id                                    0\n",
       "name                                 16\n",
       "host_id                               0\n",
       "host_name                            21\n",
       "neighbourhood_group                   0\n",
       "neighbourhood                         0\n",
       "latitude                              0\n",
       "longitude                             0\n",
       "room_type                             0\n",
       "price                                 0\n",
       "minimum_nights                        0\n",
       "number_of_reviews                     0\n",
       "last_review                       10052\n",
       "reviews_per_month                 10052\n",
       "calculated_host_listings_count        0\n",
       "availability_365                      0\n",
       "dtype: int64"
      ]
     },
     "execution_count": 38,
     "metadata": {},
     "output_type": "execute_result"
    }
   ],
   "source": [
    "df.isnull().sum()"
   ]
  },
  {
   "cell_type": "code",
   "execution_count": 36,
   "id": "21fc5a2f",
   "metadata": {},
   "outputs": [
    {
     "data": {
      "text/plain": [
       "48906.0"
      ]
     },
     "execution_count": 36,
     "metadata": {},
     "output_type": "execute_result"
    }
   ],
   "source": [
    "10052+38854.000000\t"
   ]
  },
  {
   "cell_type": "markdown",
   "id": "c1a8a17d",
   "metadata": {},
   "source": [
    "<h3 style =\" color:#00d5ff;\">Let us find the unique values in each column</h3>"
   ]
  },
  {
   "cell_type": "code",
   "execution_count": 43,
   "id": "895b27c4",
   "metadata": {},
   "outputs": [
    {
     "data": {
      "text/plain": [
       "id                                48895\n",
       "name                              47896\n",
       "host_id                           37457\n",
       "host_name                         11452\n",
       "neighbourhood_group                   5\n",
       "neighbourhood                       221\n",
       "latitude                          19048\n",
       "longitude                         14718\n",
       "room_type                             3\n",
       "price                               674\n",
       "minimum_nights                      109\n",
       "number_of_reviews                   394\n",
       "last_review                        1764\n",
       "reviews_per_month                   937\n",
       "calculated_host_listings_count       47\n",
       "availability_365                    366\n",
       "dtype: int64"
      ]
     },
     "execution_count": 43,
     "metadata": {},
     "output_type": "execute_result"
    }
   ],
   "source": [
    "df.nunique()\n"
   ]
  },
  {
   "cell_type": "markdown",
   "id": "383af6ed",
   "metadata": {},
   "source": [
    "id have unique values 48895 but count of id is  48906 so lets check is the gap betwwen observation due to duplicated values"
   ]
  },
  {
   "cell_type": "code",
   "execution_count": 46,
   "id": "f1b58e02",
   "metadata": {},
   "outputs": [
    {
     "data": {
      "text/plain": [
       "np.int64(48906)"
      ]
     },
     "execution_count": 46,
     "metadata": {},
     "output_type": "execute_result"
    }
   ],
   "source": [
    "48895+df.duplicated().sum()"
   ]
  },
  {
   "cell_type": "code",
   "execution_count": 39,
   "id": "db2c22f1",
   "metadata": {},
   "outputs": [
    {
     "data": {
      "text/plain": [
       "np.int64(48905)"
      ]
     },
     "execution_count": 39,
     "metadata": {},
     "output_type": "execute_result"
    }
   ],
   "source": [
    "df['host_name'].duplicated().sum()+11452"
   ]
  },
  {
   "cell_type": "markdown",
   "id": "e562a95e",
   "metadata": {},
   "source": [
    "<h4 style =\" color:#00d5ff;\">Let us find the value count of <b style =\" color:magenta\" >room type<b></h4>"
   ]
  },
  {
   "cell_type": "code",
   "execution_count": 41,
   "id": "0f3e6321",
   "metadata": {},
   "outputs": [
    {
     "data": {
      "text/plain": [
       "room_type\n",
       "Entire home/apt    25414\n",
       "Private room       22332\n",
       "Shared room         1160\n",
       "Name: count, dtype: int64"
      ]
     },
     "execution_count": 41,
     "metadata": {},
     "output_type": "execute_result"
    }
   ],
   "source": [
    "df['room_type'].value_counts()"
   ]
  },
  {
   "cell_type": "code",
   "execution_count": 42,
   "id": "f9dc28c2",
   "metadata": {},
   "outputs": [
    {
     "data": {
      "text/plain": [
       "room_type\n",
       "Entire home/apt    0.519650\n",
       "Private room       0.456631\n",
       "Shared room        0.023719\n",
       "Name: proportion, dtype: float64"
      ]
     },
     "execution_count": 42,
     "metadata": {},
     "output_type": "execute_result"
    }
   ],
   "source": [
    "df[\"room_type\"].value_counts(normalize = True)"
   ]
  },
  {
   "cell_type": "markdown",
   "id": "400a3589",
   "metadata": {},
   "source": [
    "<h4 style =\" color:#00d5ff;\">Let us find the value count of <b style =\" color:magenta\" >neighbourhood_group<b></h4>"
   ]
  },
  {
   "cell_type": "code",
   "execution_count": 48,
   "id": "e2747953",
   "metadata": {},
   "outputs": [
    {
     "data": {
      "text/plain": [
       "neighbourhood_group\n",
       "Manhattan        21669\n",
       "Brooklyn         20107\n",
       "Queens            5666\n",
       "Bronx             1091\n",
       "Staten Island      373\n",
       "Name: count, dtype: int64"
      ]
     },
     "execution_count": 48,
     "metadata": {},
     "output_type": "execute_result"
    }
   ],
   "source": [
    "df[\"neighbourhood_group\"].value_counts()"
   ]
  },
  {
   "cell_type": "code",
   "execution_count": 45,
   "id": "38838c84",
   "metadata": {},
   "outputs": [
    {
     "data": {
      "text/plain": [
       "price\n",
       "100     2051\n",
       "150     2048\n",
       "50      1534\n",
       "60      1459\n",
       "200     1402\n",
       "        ... \n",
       "930        1\n",
       "920        1\n",
       "4100       1\n",
       "3512       1\n",
       "1494       1\n",
       "Name: count, Length: 674, dtype: int64"
      ]
     },
     "execution_count": 45,
     "metadata": {},
     "output_type": "execute_result"
    }
   ],
   "source": [
    "df['price'].value_counts()"
   ]
  },
  {
   "cell_type": "markdown",
   "id": "77247943",
   "metadata": {},
   "source": [
    "<p style =  \"color:crimson; font-size:20px\"><b>since price have a wide range of value so we will divide it into bins for better analysis</b></p>"
   ]
  },
  {
   "cell_type": "code",
   "execution_count": null,
   "id": "a80d48d3",
   "metadata": {},
   "outputs": [
    {
     "data": {
      "text/plain": [
       "(-10.001, 1000.0]    48667\n",
       "(1000.0, 2000.0]       153\n",
       "(2000.0, 3000.0]        41\n",
       "(3000.0, 4000.0]        13\n",
       "(4000.0, 5000.0]        12\n",
       "(9000.0, 10000.0]        6\n",
       "(6000.0, 7000.0]         5\n",
       "(5000.0, 6000.0]         4\n",
       "(7000.0, 8000.0]         4\n",
       "(8000.0, 9000.0]         1\n",
       "Name: count, dtype: int64"
      ]
     },
     "execution_count": 15,
     "metadata": {},
     "output_type": "execute_result"
    }
   ],
   "source": [
    "df['price'].value_counts(bins=10)"
   ]
  },
  {
   "cell_type": "markdown",
   "id": "677cb37e",
   "metadata": {},
   "source": [
    "<h4 style =\" color:#00d5ff;\">Let us find the mean ,median of <b  >data<b></h4>"
   ]
  },
  {
   "cell_type": "code",
   "execution_count": 44,
   "id": "435cc481",
   "metadata": {},
   "outputs": [
    {
     "name": "stdout",
     "output_type": "stream",
     "text": [
      "152.71132376395533\n",
      "106.0\n"
     ]
    }
   ],
   "source": [
    "print(df['price'].mean())\n",
    "print(df['price'].median())"
   ]
  },
  {
   "cell_type": "markdown",
   "id": "1a63c330",
   "metadata": {},
   "source": [
    "<h4 style =\" color:#00d5ff;\">Let us find the correlation of <b  >data<b></h4>"
   ]
  },
  {
   "cell_type": "code",
   "execution_count": 47,
   "id": "9786264d",
   "metadata": {},
   "outputs": [
    {
     "data": {
      "text/plain": [
       "Index(['id', 'name', 'host_id', 'host_name', 'neighbourhood_group',\n",
       "       'neighbourhood', 'latitude', 'longitude', 'room_type', 'price',\n",
       "       'minimum_nights', 'number_of_reviews', 'last_review',\n",
       "       'reviews_per_month', 'calculated_host_listings_count',\n",
       "       'availability_365'],\n",
       "      dtype='object')"
      ]
     },
     "execution_count": 47,
     "metadata": {},
     "output_type": "execute_result"
    }
   ],
   "source": [
    "df.columns"
   ]
  },
  {
   "cell_type": "code",
   "execution_count": null,
   "id": "1a2923ba",
   "metadata": {},
   "outputs": [],
   "source": [
    "temp= pd.DataFrame()"
   ]
  },
  {
   "cell_type": "code",
   "execution_count": null,
   "id": "40940239",
   "metadata": {},
   "outputs": [],
   "source": [
    "temp[\"price\"] = df[\"price\"]\n",
    "temp[\"minimum_nights\"]=df[\"minimum_nights\"]\n",
    "temp[\"number_of_reviews\t\"]=df[\"number_of_reviews\"]\n",
    "temp[\"reviews_per_month\"]=df[\"reviews_per_month\"]\n",
    "temp[\"calculated_host_listings_count\"]=df[\"calculated_host_listings_count\"]\t\n",
    "temp[\"availability_365\"] =df[\"availability_365\"]"
   ]
  },
  {
   "cell_type": "code",
   "execution_count": 49,
   "id": "75d62cf2",
   "metadata": {},
   "outputs": [
    {
     "ename": "NameError",
     "evalue": "name 'temp' is not defined",
     "output_type": "error",
     "traceback": [
      "\u001b[0;31m---------------------------------------------------------------------------\u001b[0m",
      "\u001b[0;31mNameError\u001b[0m                                 Traceback (most recent call last)",
      "Cell \u001b[0;32mIn[49], line 1\u001b[0m\n\u001b[0;32m----> 1\u001b[0m \u001b[43mtemp\u001b[49m\u001b[38;5;241m.\u001b[39mcorr()\n",
      "\u001b[0;31mNameError\u001b[0m: name 'temp' is not defined"
     ]
    }
   ],
   "source": [
    "temp.corr()"
   ]
  },
  {
   "cell_type": "markdown",
   "id": "2436bfa5",
   "metadata": {},
   "source": [
    "<h4 style =\" color:#00d5ff;\">Let us find the Measure of Spread of <b  >data<b></h4>"
   ]
  },
  {
   "cell_type": "code",
   "execution_count": null,
   "id": "62cc9e3a",
   "metadata": {},
   "outputs": [
    {
     "data": {
      "text/plain": [
       "Series([], dtype: float64)"
      ]
     },
     "execution_count": 21,
     "metadata": {},
     "output_type": "execute_result"
    }
   ],
   "source": [
    "temp.skew()"
   ]
  },
  {
   "cell_type": "code",
   "execution_count": null,
   "id": "b1b766d5",
   "metadata": {},
   "outputs": [
    {
     "data": {
      "text/plain": [
       "Series([], dtype: float64)"
      ]
     },
     "execution_count": 24,
     "metadata": {},
     "output_type": "execute_result"
    }
   ],
   "source": [
    "temp.kurt()"
   ]
  },
  {
   "cell_type": "markdown",
   "id": "828a8317",
   "metadata": {},
   "source": [
    "<h3>UNIVARIATE GRAPHICAL ANALYSIS</h3>"
   ]
  },
  {
   "cell_type": "code",
   "execution_count": null,
   "id": "8a7b936a",
   "metadata": {},
   "outputs": [
    {
     "name": "stdout",
     "output_type": "stream",
     "text": [
      "<class 'pandas.core.frame.DataFrame'>\n",
      "RangeIndex: 48906 entries, 0 to 48905\n",
      "Data columns (total 16 columns):\n",
      " #   Column                          Non-Null Count  Dtype  \n",
      "---  ------                          --------------  -----  \n",
      " 0   id                              48906 non-null  object \n",
      " 1   name                            48890 non-null  object \n",
      " 2   host_id                         48906 non-null  object \n",
      " 3   host_name                       48885 non-null  object \n",
      " 4   neighbourhood_group             48906 non-null  object \n",
      " 5   neighbourhood                   48906 non-null  object \n",
      " 6   latitude                        48906 non-null  object \n",
      " 7   longitude                       48906 non-null  object \n",
      " 8   room_type                       48906 non-null  object \n",
      " 9   price                           48906 non-null  int64  \n",
      " 10  minimum_nights                  48906 non-null  int64  \n",
      " 11  number_of_reviews               48906 non-null  int64  \n",
      " 12  last_review                     38854 non-null  object \n",
      " 13  reviews_per_month               38854 non-null  float64\n",
      " 14  calculated_host_listings_count  48906 non-null  int64  \n",
      " 15  availability_365                48906 non-null  int64  \n",
      "dtypes: float64(1), int64(5), object(10)\n",
      "memory usage: 6.0+ MB\n"
     ]
    }
   ],
   "source": [
    "df.info()"
   ]
  },
  {
   "cell_type": "code",
   "execution_count": 53,
   "id": "03a93cea",
   "metadata": {},
   "outputs": [],
   "source": [
    "import seaborn as sns\n",
    "import matplotlib as plt"
   ]
  },
  {
   "cell_type": "code",
   "execution_count": 56,
   "id": "5233411c",
   "metadata": {},
   "outputs": [
    {
     "data": {
      "text/plain": [
       "<Axes: xlabel='room_type'>"
      ]
     },
     "execution_count": 56,
     "metadata": {},
     "output_type": "execute_result"
    },
    {
     "data": {
      "image/png": "[encoded data removed]",
      "text/plain": [
       "<Figure size 640x480 with 1 Axes>"
      ]
     },
     "metadata": {},
     "output_type": "display_data"
    }
   ],
   "source": [
    "df['room_type'].value_counts().plot(kind='bar')"
   ]
  },
  {
   "cell_type": "code",
   "execution_count": null,
   "id": "364a7708",
   "metadata": {},
   "outputs": [
    {
     "data": {
      "text/plain": [
       "<Axes: ylabel='room_type'>"
      ]
     },
     "execution_count": 38,
     "metadata": {},
     "output_type": "execute_result"
    },
    {
     "data": {
      "image/png": "[encoded data removed]",
      "text/plain": [
       "<Figure size 640x480 with 1 Axes>"
      ]
     },
     "metadata": {},
     "output_type": "display_data"
    }
   ],
   "source": [
    "sns.barplot(df['room_type'])"
   ]
  },
  {
   "cell_type": "code",
   "execution_count": null,
   "id": "6bdf82c2",
   "metadata": {},
   "outputs": [
    {
     "data": {
      "text/plain": [
       "<Axes: xlabel='room_type', ylabel='count'>"
      ]
     },
     "execution_count": 42,
     "metadata": {},
     "output_type": "execute_result"
    },
    {
     "data": {
      "image/png": "[encoded data removed]",
      "text/plain": [
       "<Figure size 640x480 with 1 Axes>"
      ]
     },
     "metadata": {},
     "output_type": "display_data"
    }
   ],
   "source": [
    "sns.countplot(x=df['room_type'],hue=df['room_type'])"
   ]
  },
  {
   "cell_type": "code",
   "execution_count": null,
   "id": "0b57d982",
   "metadata": {},
   "outputs": [
    {
     "data": {
      "text/plain": [
       "<Axes: xlabel='room_type', ylabel='count'>"
      ]
     },
     "execution_count": 52,
     "metadata": {},
     "output_type": "execute_result"
    },
    {
     "data": {
      "image/png": "[encoded data removed]",
      "text/plain": [
       "<Figure size 640x480 with 1 Axes>"
      ]
     },
     "metadata": {},
     "output_type": "display_data"
    }
   ],
   "source": [
    "sns.countplot(data = df,x='room_type')"
   ]
  },
  {
   "cell_type": "code",
   "execution_count": null,
   "id": "ee96bea5",
   "metadata": {},
   "outputs": [
    {
     "data": {
      "text/plain": [
       "<Axes: xlabel='neighbourhood_group', ylabel='count'>"
      ]
     },
     "execution_count": 48,
     "metadata": {},
     "output_type": "execute_result"
    },
    {
     "data": {
      "image/png": "[encoded data removed]",
      "text/plain": [
       "<Figure size 640x480 with 1 Axes>"
      ]
     },
     "metadata": {},
     "output_type": "display_data"
    }
   ],
   "source": [
    "sns.countplot(data = df,x='neighbourhood_group')\n"
   ]
  },
  {
   "cell_type": "code",
   "execution_count": null,
   "id": "f05e6de4",
   "metadata": {},
   "outputs": [
    {
     "data": {
      "text/plain": [
       "<Axes: xlabel='neighbourhood_group', ylabel='count'>"
      ]
     },
     "execution_count": 47,
     "metadata": {},
     "output_type": "execute_result"
    },
    {
     "data": {
      "image/png": "[encoded data removed]",
      "text/plain": [
       "<Figure size 640x480 with 1 Axes>"
      ]
     },
     "metadata": {},
     "output_type": "display_data"
    }
   ],
   "source": [
    "sns.countplot(data = df,x='neighbourhood_group',hue = \"room_type\")"
   ]
  },
  {
   "cell_type": "markdown",
   "id": "407f251a",
   "metadata": {},
   "source": [
    "## Pie Chart"
   ]
  },
  {
   "cell_type": "code",
   "execution_count": 58,
   "id": "d9003b70",
   "metadata": {},
   "outputs": [
    {
     "data": {
      "text/plain": [
       "<Axes: ylabel='count'>"
      ]
     },
     "execution_count": 58,
     "metadata": {},
     "output_type": "execute_result"
    },
    {
     "data": {
      "image/png": "[encoded data removed]",
      "text/plain": [
       "<Figure size 640x480 with 1 Axes>"
      ]
     },
     "metadata": {},
     "output_type": "display_data"
    }
   ],
   "source": [
    "df['room_type'].value_counts().plot(kind='pie',autopct=\"%.2f\")"
   ]
  },
  {
   "cell_type": "code",
   "execution_count": 66,
   "id": "897dcc65",
   "metadata": {},
   "outputs": [
    {
     "data": {
      "text/plain": [
       "<Axes: xlabel='availability_365'>"
      ]
     },
     "execution_count": 66,
     "metadata": {},
     "output_type": "execute_result"
    },
    {
     "data": {
      "image/png": "[encoded data removed]",
      "text/plain": [
       "<Figure size 640x480 with 1 Axes>"
      ]
     },
     "metadata": {},
     "output_type": "display_data"
    }
   ],
   "source": [
    "df[\"availability_365\"].value_counts().head(10).plot(kind=\"bar\")"
   ]
  },
  {
   "cell_type": "code",
   "execution_count": 65,
   "id": "9ca86cc3",
   "metadata": {},
   "outputs": [
    {
     "data": {
      "text/plain": [
       "<Axes: >"
      ]
     },
     "execution_count": 65,
     "metadata": {},
     "output_type": "execute_result"
    },
    {
     "data": {
      "image/png": "[encoded data removed]",
      "text/plain": [
       "<Figure size 640x480 with 1 Axes>"
      ]
     },
     "metadata": {},
     "output_type": "display_data"
    }
   ],
   "source": [
    "df['availability_365'].value_counts(bins=5).plot(kind=\"bar\")"
   ]
  },
  {
   "cell_type": "code",
   "execution_count": null,
   "metadata": {},
   "outputs": [],
   "source": [
    "d"
   ]
  },
  {
   "cell_type": "code",
   "execution_count": null,
   "id": "8b24e3df",
   "metadata": {},
   "outputs": [],
   "source": []
  }
 ],
 "metadata": {
  "kernelspec": {
   "display_name": "Python 3 (ipykernel)",
   "language": "python",
   "name": "python3"
  },
  "language_info": {
   "codemirror_mode": {
    "name": "ipython",
    "version": 3
   },
   "file_extension": ".py",
   "mimetype": "text/x-python",
   "name": "python",
   "nbconvert_exporter": "python",
   "pygments_lexer": "ipython3",
   "version": "3.10.13"
  }
 },
 "nbformat": 4,
 "nbformat_minor": 5
}
