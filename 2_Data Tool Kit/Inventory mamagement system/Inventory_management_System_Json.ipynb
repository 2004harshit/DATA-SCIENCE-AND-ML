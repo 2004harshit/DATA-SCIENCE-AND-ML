{
 "cells": [
  {
   "cell_type": "markdown",
   "id": "01074b4a",
   "metadata": {},
   "source": [
    "record={1:\"Dairy Milk\",2:\"Biscuit\"}\n"
   ]
  },
  {
   "cell_type": "code",
   "execution_count": null,
   "id": "db351484",
   "metadata": {},
   "outputs": [],
   "source": [
    "record={1:\"Dairy Milk\",2:\"Biscuit\"}\n",
    "print(record)"
   ]
  },
  {
   "cell_type": "code",
   "execution_count": 2,
   "id": "eb675dd1",
   "metadata": {},
   "outputs": [
    {
     "name": "stdout",
     "output_type": "stream",
     "text": [
      "{1001: {'Name': '5 Star', 'Price': 10, 'Qn': 200, 'discount': 3}, 1002: {'Name': 'Parle G', 'Price': 20, 'Qn': 100, 'discount': 0}, 1003: {'Name': 'Cake', 'Price': 250, 'Qn': 20, 'discount': 2}, 1004: {'Name': 'Namkeen', 'Price': 90, 'Qn': 30, 'discount': 1}}\n"
     ]
    }
   ],
   "source": [
    "import json\n",
    "record={1001:{\"Name\":\"5 Star\",\"Price\":10,\"Qn\":200,\"discount\":3},\n",
    "       1002:{\"Name\":\"Parle G\",\"Price\":20,\"Qn\":100,\"discount\":0},\n",
    "       1003:{\"Name\":\"Cake\",\"Price\":250,\"Qn\":20,\"discount\":2},\n",
    "       1004:{\"Name\":\"Namkeen\",\"Price\":90,\"Qn\":30,\"discount\":1}}\n",
    "print(record)"
   ]
  },
  {
   "cell_type": "code",
   "execution_count": null,
   "id": "1bc30d6e",
   "metadata": {},
   "outputs": [],
   "source": [
    "print(record[1003])"
   ]
  },
  {
   "cell_type": "code",
   "execution_count": null,
   "id": "0651dfea",
   "metadata": {},
   "outputs": [],
   "source": [
    "print(record[1001][\"Name\"])"
   ]
  },
  {
   "cell_type": "code",
   "execution_count": null,
   "id": "9a71e31c",
   "metadata": {},
   "outputs": [],
   "source": [
    "print(record[1003][\"Price\"])"
   ]
  },
  {
   "cell_type": "markdown",
   "id": "689cfdfe",
   "metadata": {},
   "source": [
    "# Generating Bill\n"
   ]
  },
  {
   "cell_type": "code",
   "execution_count": null,
   "id": "c4e7cbbf",
   "metadata": {},
   "outputs": [],
   "source": [
    "print(\"-------------------------MENUE-------------------------\\n\")\n",
    "for key in record.keys():\n",
    "    print(key,\":\",record[key][\"Name\"],\"|\", record[key][\"Price\"],\"|\",record[key][\"Qn\"])\n",
    "    print(\"----------------------------------------------------\\n\")\n",
    "    \n",
    "ui_pd=int(input(\"Enter the product id:\"))\n",
    "ui_pd_qn=int(input(\"Enter the product quantity:\"))\n",
    "print(\"----------------------------------------------------\\n\")\n",
    "print(\"Product Name                   :\",record[ui_pd][\"Name\"])\n",
    "print(\"Price                          :\",record[ui_pd][\"Price\"])\n",
    "print(\"quantity                       :\",ui_pd_qn)\n",
    "print(\"----------------------------------------------------\\n\")\n",
    "print(\"                       BILL                               \")\n",
    "print(\"Billing Amount                 :\",record[ui_pd][\"Price\"]*ui_pd_qn)\n",
    "    "
   ]
  },
  {
   "cell_type": "markdown",
   "id": "8f277e54",
   "metadata": {},
   "source": [
    "# Updating Inventory\n"
   ]
  },
  {
   "cell_type": "code",
   "execution_count": null,
   "id": "c57b0b7f",
   "metadata": {},
   "outputs": [],
   "source": [
    "print(\"-------------------------MENUE-------------------------\\n\")\n",
    "for key in record.keys():\n",
    "    print(key,\":\",record[key][\"Name\"],\"|\", record[key][\"Price\"],\"|\",record[key][\"Qn\"])\n",
    "    print(\"----------------------------------------------------\\n\")\n",
    "    \n",
    "ui_pd=int(input(\"Enter the product id:\"))\n",
    "ui_pd_qn=int(input(\"Enter the product quantity:\"))\n",
    "if record[ui_pd][\"Qn\"]==0:\n",
    "    print(\"Sorry Item is not available yet.\")\n",
    "elif record[ui_pd][\"Qn\"]>=ui_pd_qn:\n",
    "     record[ui_pd][\"Qn\"]=record[ui_pd][\"Qn\"]-ui_pd_qn\n",
    "print(\"----------------------------------------------------\\n\")\n",
    "print(\"Product Name                   :\",record[ui_pd][\"Name\"])\n",
    "print(\"Price                          :\",record[ui_pd][\"Price\"])\n",
    "print(\"quantity                       :\",ui_pd_qn)\n",
    "print(\"----------------------------------------------------\\n\")\n",
    "print(\"                       BILL                               \")\n",
    "print(\"Billing Amount                 :\",record[ui_pd][\"Price\"]*ui_pd_qn)\n",
    "    "
   ]
  },
  {
   "cell_type": "code",
   "execution_count": null,
   "id": "436f4bb1",
   "metadata": {},
   "outputs": [],
   "source": [
    "record"
   ]
  },
  {
   "cell_type": "code",
   "execution_count": null,
   "id": "d8e0781f",
   "metadata": {},
   "outputs": [],
   "source": [
    "js=json.dumps(record)\n",
    "print(js)"
   ]
  },
  {
   "cell_type": "code",
   "execution_count": null,
   "id": "f8dd3fbb",
   "metadata": {},
   "outputs": [],
   "source": [
    "type(js)"
   ]
  },
  {
   "cell_type": "code",
   "execution_count": null,
   "id": "f8441b4e",
   "metadata": {},
   "outputs": [],
   "source": [
    "fd=open(\"inventory_json.txt\",\"w\")\n",
    "fd.write(js)\n",
    "fd.close()"
   ]
  },
  {
   "cell_type": "code",
   "execution_count": null,
   "id": "e4504cbf",
   "metadata": {},
   "outputs": [],
   "source": [
    "!ls"
   ]
  },
  {
   "cell_type": "markdown",
   "id": "45867aae",
   "metadata": {},
   "source": [
    "# saving record in file"
   ]
  },
  {
   "cell_type": "code",
   "execution_count": null,
   "id": "cc9a8590",
   "metadata": {},
   "outputs": [
    {
     "name": "stdout",
     "output_type": "stream",
     "text": [
      "-------------------------------MENUE------------------- \n",
      "\n",
      "1001 : 5 Star   | 10   | 194\n",
      "----------------------------------------------------\n",
      "\n",
      "1002 : Parle G   | 20   | 100\n",
      "----------------------------------------------------\n",
      "\n",
      "1003 : Cake   | 250   | 18\n",
      "----------------------------------------------------\n",
      "\n",
      "1004 : Namkeen   | 90   | 29\n",
      "----------------------------------------------------\n",
      "\n"
     ]
    }
   ],
   "source": [
    "import json\n",
    "import time\n",
    "\n",
    "# Loading inventory data from a file\n",
    "with open(\"inventory_json.txt\", \"r\") as fd:\n",
    "    js = fd.read()\n",
    "    record = json.loads(js)\n",
    "    \n",
    "print(\"-------------------------------MENUE------------------- \\n\")\n",
    "for key in record.keys():\n",
    "    print(key, \":\", record[key][\"Name\"], \"  |\", record[key][\"Price\"], \"  |\", record[key][\"Qn\"])\n",
    "    print(\"----------------------------------------------------\\n\")\n",
    "    \n",
    "    \n",
    "# USER DETAILS    \n",
    "ui_name=input(\"Enter Name of Customer    : \")\n",
    "ui_phone=input(\"Enter Mobile Number      : \")\n",
    "ui_address=input(\"Enter Address          : \")\n",
    "\n",
    "ui_pd = input(\"Enter the product id: \")\n",
    "ui_pd_qn = int(input(\"Enter the product quantity: \"))\n",
    "\n",
    "# taking input for taxes\n",
    "ip_Gst=int(input(\"Enter the gst amount : \"))\n",
    "ip_Sgst=int(input(\"Enter the sgst amount : \"))\n",
    "\n",
    "\n",
    "\n",
    "# PRINTING BILL\n",
    "    \n",
    "print(\"                         ABC SUPER MARKET             \\n\")\n",
    "print(\"                             ADDRESS                  \\n\")\n",
    "print(\"                         CONTACT DETAILS              \\n\")\n",
    "print(\"                              ID                      \\n\")\n",
    "print(\"------------------------------------------------------\\n\")\n",
    "print(\"                         TAX INVOICE                  \\n\")\n",
    "print(\"------------------------------------------------------\\n\")\n",
    "\n",
    "\n",
    "\n",
    "\n",
    "if ui_pd in record:\n",
    "    if record[ui_pd][\"Qn\"] == 0:\n",
    "        print(\"Sorry, Item is not available.\")\n",
    "    elif record[ui_pd][\"Qn\"] >= ui_pd_qn:\n",
    "        record[ui_pd][\"Qn\"] -= ui_pd_qn\n",
    "        print(\"----------------------------------------------------\\n\")\n",
    "        print(\"Product Name                   :\", record[ui_pd][\"Name\"])\n",
    "        print(\"Price                          :\", record[ui_pd][\"Price\"])\n",
    "        print(\"Quantity                       :\", ui_pd_qn)\n",
    "        print(\"Discount                       :\",record[ui_pd][\"discount\"],\"%\")\n",
    "        print(\"----------------------------------------------------\\n\")\n",
    "        print(\"GST AMOUNT                     :\",ip_Gst)\n",
    "        print(\"SGST AMOUNT                    :\",ip_Sgst)\n",
    "\n",
    "        total=record[ui_pd][\"Price\"] * ui_pd_qn+ip_Gst+ip_Sgst\n",
    "        total=total-total*record[ui_pd][\"discount\"]/100\n",
    "        print(\"----------------------------------------------------\\n\")\n",
    "        print(\"                       BILL                               \")\n",
    "        print(\"Billing Amount                 :\",total )\n",
    "        sale=\"1\" + \",\" + ui_name + \",\" +ui_phone + \",\" + ui_address + \",\" + record[ui_pd][\"Name\"]+ \",\" + str(ui_pd_qn) + \",\" + str(record[ui_pd][\"Price\"])+ \",\" + str(record[ui_pd][\"Price\"] * ui_pd_qn) + \",\"+str(record[ui_pd][\"discount\"])+\",\" + time.ctime() + \"\\n\" \n",
    "    else:\n",
    "        print(\"Available Quantity is:\", record[ui_pd][\"Qn\"])\n",
    "        ch = input(\"Would you like to purchase the available quantity (Press Y/N): \")\n",
    "        if ch.lower() == \"y\":\n",
    "            print(\"----------------------------------------------------\\n\")\n",
    "            print(\"Product Name                   :\", record[ui_pd][\"Name\"])\n",
    "            print(\"Price                          :\", record[ui_pd][\"Price\"])\n",
    "            print(\"Quantity                       :\", record[ui_pd][\"Qn\"])\n",
    "            print(\"----------------------------------------------------\\n\")\n",
    "            print(\"                       BILL                               \")\n",
    "            print(\"Billing Amount                 :\", record[ui_pd][\"Price\"] * record[ui_pd][\"Qn\"])\n",
    "            sale=\"1\" + \",\" + ui_name + \",\" +ui_phone + \",\" + ui_address + \",\" + record[ui_pd][\"Name\"]+ \",\" + str(ui_pd_qn) + \",\" + str(record[ui_pd][\"Price\"])+ \",\" + str(record[ui_pd][\"Price\"] * record[ui_pd][\"Qn\"]) + \",\"  + \",\"+str(record[ui_pd][\"discount\"])+\",\" + time.ctime() + \"\\n\" \n",
    "            record[ui_pd][\"Qn\"] = 0\n",
    "        else:\n",
    "            print(\"Do you want to purchase other items?\")\n",
    "else:\n",
    "    print(\"Invalid product ID.\")\n",
    "\n",
    "# Updating inventory data in the file\n",
    "js = json.dumps(record)\n",
    "with open(\"inventory_json.txt\", \"w\") as fd:\n",
    "    fd.write(js)\n",
    "fd=open(\"sales_file.csv\",\"a\")\n",
    "fd.write(sale)\n",
    "fd.close()\n",
    "print(sale)"
   ]
  },
  {
   "cell_type": "code",
   "execution_count": null,
   "id": "f0c677c5",
   "metadata": {},
   "outputs": [],
   "source": []
  }
 ],
 "metadata": {
  "kernelspec": {
   "display_name": "Python 3 (ipykernel)",
   "language": "python",
   "name": "python3"
  },
  "language_info": {
   "codemirror_mode": {
    "name": "ipython",
    "version": 3
   },
   "file_extension": ".py",
   "mimetype": "text/x-python",
   "name": "python",
   "nbconvert_exporter": "python",
   "pygments_lexer": "ipython3",
   "version": "3.11.5"
  }
 },
 "nbformat": 4,
 "nbformat_minor": 5
}
