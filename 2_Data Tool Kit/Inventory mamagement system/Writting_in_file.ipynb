{
 "cells": [
  {
   "cell_type": "markdown",
   "id": "d1ace8df",
   "metadata": {},
   "source": [
    "# Writting Mode"
   ]
  },
  {
   "cell_type": "code",
   "execution_count": 2,
   "id": "eab9c48f",
   "metadata": {},
   "outputs": [],
   "source": [
    "fd=open(\"write.txt\",'w')\n",
    "fd.write(\"hello welcome to gfg harshit this side\")\n",
    "fd.close()"
   ]
  },
  {
   "cell_type": "code",
   "execution_count": 5,
   "id": "b7de4a38",
   "metadata": {},
   "outputs": [],
   "source": [
    "fd=open(\"write.txt\",'w')\n",
    "fd.write(\"hello \")\n",
    "fd.close()"
   ]
  },
  {
   "cell_type": "markdown",
   "id": "f355f1fc",
   "metadata": {},
   "source": [
    "# Append mode\n"
   ]
  },
  {
   "cell_type": "code",
   "execution_count": 8,
   "id": "90e71503",
   "metadata": {},
   "outputs": [],
   "source": [
    "fd=open(\"write.txt\",'a')\n",
    "fd.write(\"I am Harshit Chauhan,\")\n",
    "fd.close()"
   ]
  },
  {
   "cell_type": "code",
   "execution_count": 9,
   "id": "2cdcac70",
   "metadata": {},
   "outputs": [],
   "source": [
    "fd=open(\"write.txt\",'a')\n",
    "fd.write(\"B.Tech. 3 Sem Cse Student. I am Learning File handelling in python.\")\n",
    "fd.close()"
   ]
  },
  {
   "cell_type": "markdown",
   "id": "06dc2a53",
   "metadata": {},
   "source": [
    "# writting data in new line"
   ]
  },
  {
   "cell_type": "code",
   "execution_count": 1,
   "id": "b66612ce",
   "metadata": {},
   "outputs": [],
   "source": [
    "fd=open(\"write.txt\",'a')\n",
    "fd.write(\"\\nB.Tech. 3 Sem Cse Student. I am Learning File handelling in python.\")\n",
    "fd.close()"
   ]
  },
  {
   "cell_type": "code",
   "execution_count": null,
   "id": "85f861d3",
   "metadata": {},
   "outputs": [],
   "source": [
    "fd=open(\"write.txt\",'a')\n",
    "txt=input(\"enter the text:\")\n",
    "fd.write(\"\\n\"+txt)\n",
    "fd.close()"
   ]
  },
  {
   "cell_type": "code",
   "execution_count": null,
   "id": "cd5483d9",
   "metadata": {},
   "outputs": [],
   "source": []
  }
 ],
 "metadata": {
  "kernelspec": {
   "display_name": "Python 3 (ipykernel)",
   "language": "python",
   "name": "python3"
  },
  "language_info": {
   "codemirror_mode": {
    "name": "ipython",
    "version": 3
   },
   "file_extension": ".py",
   "mimetype": "text/x-python",
   "name": "python",
   "nbconvert_exporter": "python",
   "pygments_lexer": "ipython3",
   "version": "3.11.5"
  }
 },
 "nbformat": 4,
 "nbformat_minor": 5
}
