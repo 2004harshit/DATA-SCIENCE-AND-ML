{
 "cells": [
  {
   "cell_type": "markdown",
   "id": "10060b70",
   "metadata": {},
   "source": [
    "# Writting Mode"
   ]
  },
  {
   "cell_type": "code",
   "execution_count": 2,
   "id": "a7ba9480",
   "metadata": {},
   "outputs": [],
   "source": [
    "fd=open(\"write.txt\",'w')\n",
    "fd.write(\"hello welcome to gfg harshit this side\")\n",
    "fd.close()"
   ]
  },
  {
   "cell_type": "code",
   "execution_count": 5,
   "id": "2bc54ca4",
   "metadata": {},
   "outputs": [],
   "source": [
    "fd=open(\"write.txt\",'w')\n",
    "fd.write(\"hello \")\n",
    "fd.close()"
   ]
  },
  {
   "cell_type": "markdown",
   "id": "4e9ab63b",
   "metadata": {},
   "source": [
    "# Append mode\n"
   ]
  },
  {
   "cell_type": "code",
   "execution_count": 8,
   "id": "74d32686",
   "metadata": {},
   "outputs": [],
   "source": [
    "fd=open(\"write.txt\",'a')\n",
    "fd.write(\"I am Harshit Chauhan,\")\n",
    "fd.close()"
   ]
  },
  {
   "cell_type": "code",
   "execution_count": 9,
   "id": "b70f65a3",
   "metadata": {},
   "outputs": [],
   "source": [
    "fd=open(\"write.txt\",'a')\n",
    "fd.write(\"B.Tech. 3 Sem Cse Student. I am Learning File handelling in python.\")\n",
    "fd.close()"
   ]
  },
  {
   "cell_type": "markdown",
   "id": "0bb46935",
   "metadata": {},
   "source": [
    "# writting data in new line"
   ]
  },
  {
   "cell_type": "code",
   "execution_count": 1,
   "id": "a520682e",
   "metadata": {},
   "outputs": [],
   "source": [
    "fd=open(\"write.txt\",'a')\n",
    "fd.write(\"\\nB.Tech. 3 Sem Cse Student. I am Learning File handelling in python.\")\n",
    "fd.close()"
   ]
  },
  {
   "cell_type": "code",
   "execution_count": null,
   "id": "4dcd62e1",
   "metadata": {},
   "outputs": [],
   "source": [
    "fd=open(\"write.txt\",'a')\n",
    "txt=input(\"enter the text:\")\n",
    "fd.write(\"\\n\"+txt)\n",
    "fd.close()"
   ]
  },
  {
   "cell_type": "code",
   "execution_count": null,
   "id": "a2fc2775",
   "metadata": {},
   "outputs": [],
   "source": []
  }
 ],
 "metadata": {
  "kernelspec": {
   "display_name": "Python 3 (ipykernel)",
   "language": "python",
   "name": "python3"
  },
  "language_info": {
   "codemirror_mode": {
    "name": "ipython",
    "version": 3
   },
   "file_extension": ".py",
   "mimetype": "text/x-python",
   "name": "python",
   "nbconvert_exporter": "python",
   "pygments_lexer": "ipython3",
   "version": "3.11.5"
  }
 },
 "nbformat": 4,
 "nbformat_minor": 5
}
