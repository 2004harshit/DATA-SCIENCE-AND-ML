{
 "cells": [
  {
   "cell_type": "code",
   "execution_count": 1,
   "id": "462c9b81",
   "metadata": {},
   "outputs": [],
   "source": [
    "import os\n"
   ]
  },
  {
   "cell_type": "code",
   "execution_count": 2,
   "id": "f4d4324a",
   "metadata": {},
   "outputs": [
    {
     "data": {
      "text/plain": [
       "'C:\\\\Users\\\\Harshit\\\\OneDrive\\\\DATA SCIENCE AND ML\\\\3_O.S'"
      ]
     },
     "execution_count": 2,
     "metadata": {},
     "output_type": "execute_result"
    }
   ],
   "source": [
    "os.getcwd()"
   ]
  },
  {
   "cell_type": "code",
   "execution_count": 3,
   "id": "59043fd0",
   "metadata": {},
   "outputs": [
    {
     "ename": "FileNotFoundError",
     "evalue": "[WinError 2] The system cannot find the file specified: 'DATA SCIENCE AND ML'",
     "output_type": "error",
     "traceback": [
      "\u001b[1;31m---------------------------------------------------------------------------\u001b[0m",
      "\u001b[1;31mFileNotFoundError\u001b[0m                         Traceback (most recent call last)",
      "Cell \u001b[1;32mIn[3], line 1\u001b[0m\n\u001b[1;32m----> 1\u001b[0m os\u001b[38;5;241m.\u001b[39mchdir(\u001b[38;5;124m'\u001b[39m\u001b[38;5;124mDATA SCIENCE AND ML\u001b[39m\u001b[38;5;124m'\u001b[39m)\n",
      "\u001b[1;31mFileNotFoundError\u001b[0m: [WinError 2] The system cannot find the file specified: 'DATA SCIENCE AND ML'"
     ]
    }
   ],
   "source": [
    "os.chdir('DATA SCIENCE AND ML')"
   ]
  },
  {
   "cell_type": "code",
   "execution_count": null,
   "id": "38924925",
   "metadata": {},
   "outputs": [],
   "source": [
    "os.getcwd()"
   ]
  },
  {
   "cell_type": "code",
   "execution_count": null,
   "id": "f35ec72c",
   "metadata": {},
   "outputs": [],
   "source": [
    "os.mkdir(\"HARSHIT\")"
   ]
  },
  {
   "cell_type": "code",
   "execution_count": null,
   "id": "b68d3233",
   "metadata": {},
   "outputs": [],
   "source": [
    "os.getcwd()"
   ]
  },
  {
   "cell_type": "code",
   "execution_count": null,
   "id": "57e6b72f",
   "metadata": {},
   "outputs": [],
   "source": [
    "ls"
   ]
  },
  {
   "cell_type": "code",
   "execution_count": null,
   "id": "53657484",
   "metadata": {},
   "outputs": [],
   "source": [
    "os.chdir(\"HARSHIT\")"
   ]
  },
  {
   "cell_type": "code",
   "execution_count": null,
   "id": "e8a1c442",
   "metadata": {},
   "outputs": [],
   "source": [
    "os.getcwd()"
   ]
  },
  {
   "cell_type": "code",
   "execution_count": null,
   "id": "56d7237f",
   "metadata": {},
   "outputs": [],
   "source": [
    "os.chdir(\"../\")"
   ]
  },
  {
   "cell_type": "code",
   "execution_count": null,
   "id": "a1fb7f82",
   "metadata": {},
   "outputs": [],
   "source": [
    "os.getcwd()"
   ]
  },
  {
   "cell_type": "code",
   "execution_count": null,
   "id": "e8d4d27f",
   "metadata": {},
   "outputs": [],
   "source": [
    "os.makedirs(\"harsh/harsh\")"
   ]
  },
  {
   "cell_type": "code",
   "execution_count": null,
   "id": "d5f5d13e",
   "metadata": {},
   "outputs": [],
   "source": [
    "os.getcwd()"
   ]
  },
  {
   "cell_type": "code",
   "execution_count": null,
   "id": "72864814",
   "metadata": {},
   "outputs": [],
   "source": [
    "ls"
   ]
  },
  {
   "cell_type": "markdown",
   "id": "c403c4a3",
   "metadata": {},
   "source": [
    "# List Directories"
   ]
  },
  {
   "cell_type": "code",
   "execution_count": null,
   "id": "780ea000",
   "metadata": {},
   "outputs": [],
   "source": [
    "os.getcwd()"
   ]
  },
  {
   "cell_type": "code",
   "execution_count": null,
   "id": "40ee3ff0",
   "metadata": {},
   "outputs": [],
   "source": [
    "ls\n"
   ]
  },
  {
   "cell_type": "code",
   "execution_count": null,
   "id": "52c899da",
   "metadata": {},
   "outputs": [],
   "source": [
    "os.rmdir('harsh')"
   ]
  },
  {
   "cell_type": "code",
   "execution_count": null,
   "id": "ebe1a083",
   "metadata": {},
   "outputs": [],
   "source": [
    "os.rmdir('harsh/harsh')"
   ]
  },
  {
   "cell_type": "code",
   "execution_count": null,
   "id": "6d7d8591",
   "metadata": {},
   "outputs": [],
   "source": [
    "ls\n"
   ]
  },
  {
   "cell_type": "code",
   "execution_count": null,
   "id": "3cf2ae05",
   "metadata": {},
   "outputs": [],
   "source": [
    "os.rmdir('harsh')"
   ]
  },
  {
   "cell_type": "code",
   "execution_count": null,
   "id": "b891b238",
   "metadata": {},
   "outputs": [],
   "source": [
    "ls"
   ]
  },
  {
   "cell_type": "code",
   "execution_count": null,
   "id": "8b7ce3af",
   "metadata": {},
   "outputs": [],
   "source": [
    "os.listdir()"
   ]
  },
  {
   "cell_type": "code",
   "execution_count": null,
   "id": "45e973f0",
   "metadata": {},
   "outputs": [],
   "source": [
    "os.listdir('HARSHIT')"
   ]
  },
  {
   "cell_type": "code",
   "execution_count": null,
   "id": "75b2c0a8",
   "metadata": {},
   "outputs": [],
   "source": [
    "os.listdir('HARSHIT/harshit')"
   ]
  },
  {
   "cell_type": "code",
   "execution_count": null,
   "id": "12372975",
   "metadata": {},
   "outputs": [],
   "source": [
    "!touch file.txt  #work as terminal command"
   ]
  },
  {
   "cell_type": "code",
   "execution_count": null,
   "id": "f9903e5e",
   "metadata": {},
   "outputs": [],
   "source": [
    "os.getcwd()"
   ]
  },
  {
   "cell_type": "code",
   "execution_count": null,
   "id": "a022842d",
   "metadata": {},
   "outputs": [],
   "source": [
    "os.listdir()"
   ]
  },
  {
   "cell_type": "code",
   "execution_count": null,
   "id": "ad465dba",
   "metadata": {},
   "outputs": [],
   "source": [
    "os.rename('file.txt','harshit.txt')"
   ]
  },
  {
   "cell_type": "code",
   "execution_count": null,
   "id": "c4a2f315",
   "metadata": {},
   "outputs": [],
   "source": [
    "os.listdir()"
   ]
  },
  {
   "cell_type": "code",
   "execution_count": null,
   "id": "9c72f975",
   "metadata": {},
   "outputs": [],
   "source": [
    "for i in os.listdir():\n",
    "    if i=='harshit.txt':\n",
    "        print(i)"
   ]
  },
  {
   "cell_type": "code",
   "execution_count": null,
   "id": "538a8a01",
   "metadata": {},
   "outputs": [],
   "source": [
    "for i in os.listdir():\n",
    "    print(i)"
   ]
  },
  {
   "cell_type": "code",
   "execution_count": null,
   "id": "7ecaa52a",
   "metadata": {},
   "outputs": [],
   "source": [
    "os.remove('harshit.txt')"
   ]
  },
  {
   "cell_type": "code",
   "execution_count": null,
   "id": "fe9ddff8",
   "metadata": {},
   "outputs": [],
   "source": [
    "os.listdir()"
   ]
  },
  {
   "cell_type": "code",
   "execution_count": null,
   "id": "3305b3a7",
   "metadata": {},
   "outputs": [],
   "source": [
    "!touch harshit.txt"
   ]
  },
  {
   "cell_type": "code",
   "execution_count": null,
   "id": "0226be07",
   "metadata": {},
   "outputs": [],
   "source": [
    "os.listdir()"
   ]
  },
  {
   "cell_type": "code",
   "execution_count": null,
   "id": "8af39473",
   "metadata": {},
   "outputs": [],
   "source": [
    "fd=open('harshit.txt','w')\n",
    "fd.write(\"hello i am wrritting in this file via file handelling\")\n",
    "fd.close()"
   ]
  },
  {
   "cell_type": "code",
   "execution_count": null,
   "id": "43ab1fcb",
   "metadata": {},
   "outputs": [],
   "source": [
    "os.path.exists(\"harshit\")"
   ]
  },
  {
   "cell_type": "code",
   "execution_count": null,
   "id": "786e8bec",
   "metadata": {},
   "outputs": [],
   "source": [
    "os.path.exists(\"aman\")"
   ]
  },
  {
   "cell_type": "code",
   "execution_count": null,
   "id": "7240ca01",
   "metadata": {},
   "outputs": [],
   "source": [
    "os.path.exists(\"HARSHIT\")"
   ]
  },
  {
   "cell_type": "code",
   "execution_count": null,
   "id": "6ae923f9",
   "metadata": {},
   "outputs": [],
   "source": [
    "if os.path.exists(\"HARSHIT/file.txt\")==True:\n",
    "    print(\"TEXT FILE ALREADY EXIST\")\n",
    "else:\n",
    "    \n",
    "      print(\"current working dir:\",\" \",os.getcwd())\n",
    "      os.chdir('HARSHIT/harshit')\n",
    "      print(\"--------------------------------\")\n",
    "      print(\"NEW working dir:\",\" \",os.getcwd())\n",
    "      os.mkdir(\"NEW\")\n",
    "      !touch file.txt\n",
    "      print(\"-------------------------------------\")\n",
    "      print(\"NEW DIR AND FILE SUCCESSFULLY CREATED\")\n",
    "    "
   ]
  },
  {
   "cell_type": "markdown",
   "id": "f43d36ea",
   "metadata": {},
   "source": [
    "# Bulk Directories  creation \n",
    "\n",
    "\n",
    "                      ##os\n",
    "                        |                     \n",
    "                    ##Bulk-Dir                \n",
    "                         |\n",
    " --------------------------------------------------------------\n",
    " |                                                             |\n",
    " |                                                             |\n",
    " 1.10 folders name test --------------------------------->2 Harshit Dir,\n",
    "                                                          3 honey.txt "
   ]
  },
  {
   "cell_type": "code",
   "execution_count": null,
   "id": "ca0f3e91",
   "metadata": {},
   "outputs": [],
   "source": [
    "os.getcwd()"
   ]
  },
  {
   "cell_type": "code",
   "execution_count": null,
   "id": "44d72c64",
   "metadata": {},
   "outputs": [],
   "source": [
    "os.chdir(\"../\")\n",
    "os.chdir(\"../\")"
   ]
  },
  {
   "cell_type": "code",
   "execution_count": null,
   "id": "f0dc5226",
   "metadata": {},
   "outputs": [],
   "source": [
    "os.getcwd()"
   ]
  },
  {
   "cell_type": "code",
   "execution_count": null,
   "id": "a3bcd636",
   "metadata": {},
   "outputs": [],
   "source": [
    "os.listdir()"
   ]
  },
  {
   "cell_type": "code",
   "execution_count": null,
   "id": "c24b6e55",
   "metadata": {},
   "outputs": [],
   "source": [
    "os.mkdir(\"Bulk-Dir\")"
   ]
  },
  {
   "cell_type": "code",
   "execution_count": null,
   "id": "3dd264c2",
   "metadata": {
    "scrolled": true
   },
   "outputs": [],
   "source": [
    "os.listdir()"
   ]
  },
  {
   "cell_type": "code",
   "execution_count": null,
   "id": "d03d009a",
   "metadata": {},
   "outputs": [],
   "source": [
    "for i in range(10):\n",
    "    name=\"Bulk-Dir/test\"+str(i+1)\n",
    "    os.mkdir(name)"
   ]
  },
  {
   "cell_type": "code",
   "execution_count": null,
   "id": "1774add6",
   "metadata": {},
   "outputs": [],
   "source": [
    "os.listdir()"
   ]
  },
  {
   "cell_type": "code",
   "execution_count": null,
   "id": "3fbc0682",
   "metadata": {},
   "outputs": [],
   "source": [
    "os.listdir(\"Bulk-Dir\")"
   ]
  },
  {
   "cell_type": "code",
   "execution_count": null,
   "id": "3a172988",
   "metadata": {},
   "outputs": [],
   "source": [
    "os.getcwd()"
   ]
  },
  {
   "cell_type": "code",
   "execution_count": null,
   "id": "066af1d8",
   "metadata": {},
   "outputs": [],
   "source": [
    "# Create file name honey.txt in each dir of Bulk-Dir\n",
    "\n",
    "for i in range(10):\n",
    "    name=\"Bulk-Dir/test\"+str(i+1)\n",
    "    os.chdir(name)\n",
    "    !touch honey.txt\n",
    "    os.chdir(\"../\")\n",
    "    os.chdir(\"../\")\n",
    "print(\"File successfully created\")"
   ]
  },
  {
   "cell_type": "code",
   "execution_count": null,
   "id": "f5223e11",
   "metadata": {},
   "outputs": [],
   "source": [
    "# Create dir name HARSHIT in each dir of Bulk-Dir\n",
    "\n",
    "for i in range(10):\n",
    "    name=\"Bulk-Dir/test\"+str(i+1)+\"/HARSHIT\"\n",
    "    os.mkdir(name)\n",
    "print(\"Dir successfully created\")"
   ]
  },
  {
   "cell_type": "code",
   "execution_count": null,
   "id": "ec1fb5ff",
   "metadata": {},
   "outputs": [],
   "source": [
    "#write Jai Shree Ram in honey.txt file\n",
    "os.getcwd() \n",
    "os.chdir(\"Bulk-Dir\")\n",
    "\n"
   ]
  },
  {
   "cell_type": "code",
   "execution_count": null,
   "id": "bbf7008d",
   "metadata": {},
   "outputs": [],
   "source": [
    "for i in os.listdir():\n",
    "    print(i)\n",
    "os.getcwd()"
   ]
  },
  {
   "cell_type": "code",
   "execution_count": null,
   "id": "25bb92c0",
   "metadata": {},
   "outputs": [],
   "source": [
    "fd=open(\"test1\\honey.txt\",'w')\n",
    "fd.write(\"Jai Shree Ram\")\n",
    "fd.close()"
   ]
  },
  {
   "cell_type": "code",
   "execution_count": null,
   "id": "a27c9f0f",
   "metadata": {},
   "outputs": [],
   "source": [
    "for i in os.listdir():\n",
    "    path=i+\"\\honey.txt\"\n",
    "    print(path)\n",
    "    fd=open(path,'w')\n",
    "    fd.write(\"Jai Shree Ram\")\n",
    "    fd.close()\n",
    "    \n",
    "print(\"Successfully writen Jai Shree Ram\")"
   ]
  },
  {
   "cell_type": "code",
   "execution_count": 4,
   "id": "d7a4477e",
   "metadata": {},
   "outputs": [
    {
     "data": {
      "text/plain": [
       "'C:\\\\Users\\\\Harshit\\\\OneDrive\\\\DATA SCIENCE AND ML\\\\3_O.S'"
      ]
     },
     "execution_count": 4,
     "metadata": {},
     "output_type": "execute_result"
    }
   ],
   "source": [
    "os.getcwd()"
   ]
  },
  {
   "cell_type": "code",
   "execution_count": 6,
   "id": "871d98f0",
   "metadata": {},
   "outputs": [
    {
     "name": "stdout",
     "output_type": "stream",
     "text": [
      "Error: [WinError 5] Access is denied: 'C:\\\\Users\\\\Harshit\\\\OneDrive\\\\DATA SCIENCE AND ML\\\\3_O.S\\\\Bulk-Dir\\\\test0\\\\honey.txt' -> 'C:\\\\Users\\\\Harshit\\\\OneDrive\\\\DATA SCIENCE AND ML\\\\3_O.S\\\\Bulk-Dir'\n"
     ]
    }
   ],
   "source": [
    "import os\n",
    "\n",
    "# Source file path (the file you want to link to)\n",
    "source_file = \"C:\\\\Users\\\\Harshit\\\\OneDrive\\\\DATA SCIENCE AND ML\\\\3_O.S\\\\Bulk-Dir\\\\test0\\\\honey.txt\"\n",
    "\n",
    "# Symbolic link path (the location where you want to create the link)\n",
    "symbolic_link = \"C:\\\\Users\\\\Harshit\\\\OneDrive\\\\DATA SCIENCE AND ML\\\\3_O.S\\\\Bulk-Dir\"\n",
    "\n",
    "try:\n",
    "    # Create a symbolic link\n",
    "    os.symlink(source_file, symbolic_link)\n",
    "    print(f\"Symbolic link created: {symbolic_link}\")\n",
    "except Exception as e:\n",
    "    print(f\"Error: {e}\")\n"
   ]
  },
  {
   "cell_type": "code",
   "execution_count": 12,
   "id": "15c38b8f",
   "metadata": {},
   "outputs": [
    {
     "name": "stdout",
     "output_type": "stream",
     "text": [
      "3\n"
     ]
    },
    {
     "data": {
      "text/plain": [
       "52"
      ]
     },
     "execution_count": 12,
     "metadata": {},
     "output_type": "execute_result"
    }
   ],
   "source": [
    "import sys\n",
    "print(len(\"abc\"))\n",
    "sys.getsizeof(\"abc\")"
   ]
  },
  {
   "cell_type": "code",
   "execution_count": 14,
   "id": "f3321a43",
   "metadata": {},
   "outputs": [
    {
     "ename": "AttributeError",
     "evalue": "module 'os' has no attribute 'uname'",
     "output_type": "error",
     "traceback": [
      "\u001b[1;31m---------------------------------------------------------------------------\u001b[0m",
      "\u001b[1;31mAttributeError\u001b[0m                            Traceback (most recent call last)",
      "Cell \u001b[1;32mIn[14], line 1\u001b[0m\n\u001b[1;32m----> 1\u001b[0m system\u001b[38;5;241m=\u001b[39mos\u001b[38;5;241m.\u001b[39muname()\n\u001b[0;32m      2\u001b[0m \u001b[38;5;28mprint\u001b[39m(system\u001b[38;5;241m.\u001b[39mversion)\n",
      "\u001b[1;31mAttributeError\u001b[0m: module 'os' has no attribute 'uname'"
     ]
    }
   ],
   "source": [
    "system=os.uname()\n",
    "print(system.version)"
   ]
  },
  {
   "cell_type": "code",
   "execution_count": 15,
   "id": "3fd9f977",
   "metadata": {},
   "outputs": [
    {
     "ename": "TypeError",
     "evalue": "'_Environ' object is not callable",
     "output_type": "error",
     "traceback": [
      "\u001b[1;31m---------------------------------------------------------------------------\u001b[0m",
      "\u001b[1;31mTypeError\u001b[0m                                 Traceback (most recent call last)",
      "Cell \u001b[1;32mIn[15], line 1\u001b[0m\n\u001b[1;32m----> 1\u001b[0m os\u001b[38;5;241m.\u001b[39menviron()\n",
      "\u001b[1;31mTypeError\u001b[0m: '_Environ' object is not callable"
     ]
    }
   ],
   "source": [
    "os.environ()"
   ]
  },
  {
   "cell_type": "code",
   "execution_count": null,
   "id": "03ef3352",
   "metadata": {},
   "outputs": [],
   "source": []
  }
 ],
 "metadata": {
  "kernelspec": {
   "display_name": "Python 3 (ipykernel)",
   "language": "python",
   "name": "python3"
  },
  "language_info": {
   "codemirror_mode": {
    "name": "ipython",
    "version": 3
   },
   "file_extension": ".py",
   "mimetype": "text/x-python",
   "name": "python",
   "nbconvert_exporter": "python",
   "pygments_lexer": "ipython3",
   "version": "3.11.5"
  }
 },
 "nbformat": 4,
 "nbformat_minor": 5
}
